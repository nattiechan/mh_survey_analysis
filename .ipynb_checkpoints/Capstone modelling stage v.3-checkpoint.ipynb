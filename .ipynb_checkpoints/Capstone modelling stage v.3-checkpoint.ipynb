{
 "cells": [
  {
   "cell_type": "markdown",
   "metadata": {},
   "source": [
    "## Capstone Project\n",
    "-------\n",
    "\n",
    "### Stage 2 - Modelling phase\n",
    "------"
   ]
  },
  {
   "cell_type": "markdown",
   "metadata": {},
   "source": [
    "#### Importing packages and data\n",
    "------"
   ]
  },
  {
   "cell_type": "markdown",
   "metadata": {},
   "source": [
    "Possible packages that need to be installed:\n",
    "\n",
    "1. SpaCy\n",
    "\n",
    "<code> conda install -c spacy spacy </code>\n",
    "\n",
    "2. 'en_core_web_md' - library used in SpaCy\n",
    "\n",
    "<code> python -m spacy download en_core_web_md </code>\n",
    "\n",
    "3. wordcloud\n",
    "\n",
    "<code> conda install -c conda-forge wordcloud </code>\n",
    "\n",
    "------"
   ]
  },
  {
   "cell_type": "code",
   "execution_count": 1,
   "metadata": {},
   "outputs": [],
   "source": [
    "# import packages\n",
    "\n",
    "# Basics\n",
    "import pandas as pd\n",
    "pd.set_option(\"display.max_columns\", None)\n",
    "import numpy as np\n",
    "\n",
    "# Graphs\n",
    "from matplotlib import pyplot as plt\n",
    "%matplotlib inline\n",
    "import seaborn as sns\n",
    "\n",
    "# Filter warnings\n",
    "import warnings\n",
    "warnings.filterwarnings(\"ignore\")\n",
    "\n",
    "# Preprocessing; model selection and evaluation\n",
    "from sklearn import pipeline, preprocessing\n",
    "from sklearn.model_selection import cross_val_score, train_test_split, GridSearchCV\n",
    "from sklearn.metrics import classification_report\n",
    "\n",
    "# text handling\n",
    "from sklearn.feature_extraction.text import CountVectorizer\n",
    "from sklearn.feature_extraction.text import TfidfVectorizer\n",
    "\n",
    "# Models\n",
    "from sklearn.linear_model import LogisticRegression, LinearRegression\n",
    "from sklearn.ensemble import RandomForestClassifier\n",
    "from sklearn.tree import DecisionTreeClassifier\n",
    "from sklearn.mixture import GaussianMixture\n",
    "from sklearn.svm import SVC\n",
    "from xgboost import XGBClassifier\n",
    "from sklearn.cluster import AgglomerativeClustering, KMeans\n",
    "from sklearn.neural_network import MLPClassifier\n",
    "import statsmodels.api as sm\n",
    "\n",
    "# for custom countvectorizer with SpaCy lemmatization\n",
    "import spacy\n",
    "from sklearn.feature_extraction.text import CountVectorizer, HashingVectorizer, VectorizerMixin\n",
    "from sklearn.base import TransformerMixin, BaseEstimator\n",
    "from scipy.sparse import csr_matrix\n",
    "\n",
    "# WordCloud\n",
    "from os import path\n",
    "from PIL import Image\n",
    "from wordcloud import WordCloud, STOPWORDS, ImageColorGenerator\n",
    "from sklearn.feature_extraction.text import ENGLISH_STOP_WORDS"
   ]
  },
  {
   "cell_type": "code",
   "execution_count": 2,
   "metadata": {},
   "outputs": [],
   "source": [
    "# import packages\n",
    "data = pd.read_csv(\"saved_csv/df.csv\")\n",
    "data.drop(columns = \"Unnamed: 0\",inplace=True)\n",
    "\n",
    "df = data.copy()"
   ]
  },
  {
   "cell_type": "markdown",
   "metadata": {},
   "source": [
    "### Preparing the data\n",
    "------\n",
    "\n",
    "#### Independent Variables for Q1\n",
    "------"
   ]
  },
  {
   "cell_type": "code",
   "execution_count": 3,
   "metadata": {},
   "outputs": [],
   "source": [
    "# putting questions into categories\n",
    "\n",
    "current_mh_coverage = [\"Does your employer provide mental health benefits as part of healthcare coverage?\",\n",
    "               \"Do you know the options for mental health care available under your employer-provided health coverage?\",\n",
    "               \"Has your employer ever formally discussed mental health (for example, as part of a wellness campaign or other official communication)?\",\n",
    "               \"Does your employer offer resources to learn more about mental health disorders and options for seeking help?\",\n",
    "               \"Is your anonymity protected if you choose to take advantage of mental health or substance abuse treatment resources provided by your employer?\",\n",
    "               \"If a mental health issue prompted you to request a medical leave from work, how easy or difficult would it be to ask for that leave?\"]\n",
    "\n",
    "previous_mh_coverage = [\"Have your previous employers provided mental health benefits?\",\n",
    "                        \"Were you aware of the options for mental health care provided by your previous employers?\",\n",
    "                        \"Did your previous employers ever formally discuss mental health (as part of a wellness campaign or other official communication)?\",\n",
    "                        \"Did your previous employers provide resources to learn more about mental health disorders and how to seek help?\",\n",
    "                        \"Was your anonymity protected if you chose to take advantage of mental health or substance abuse treatment resources with previous employers?\"]\n",
    "\n",
    "mh_status = [\"Do you currently have a mental health disorder?\",\n",
    "             \"Have you ever been diagnosed with a mental health disorder?\",'Anxiety Disorder', 'Mood Disorder', \n",
    "             'Psychotic Disorder','Eating Disorder', 'Neurodevelopmental Disorders','Personality Disorder', \n",
    "             'Obsessive-Compulsive Disorder','Post-Traumatic Stress Disorder', 'Dissociative Disorder',\n",
    "             'Substance-Related and Addictive Disorders', 'Other','Adjustment disorder',\n",
    "             \"Have you had a mental health disorder in the past?\",\n",
    "             \"Have you ever sought treatment for a mental health disorder from a mental health professional?\",\n",
    "             \"Do you have a family history of mental illness?\",\n",
    "             \"How willing would you be to share with friends and family that you have a mental illness?\",\n",
    "             \"Would you be willing to bring up a physical health issue with a potential employer in an interview?\"]\n",
    "\n",
    "witnessed_exp = [\"Have your observations of how another individual who discussed a mental health issue made you less likely to reveal a mental health issue yourself in your current workplace?\",\n",
    "                 \"Have you observed or experienced an unsupportive or badly handled response to a mental health issue in your current or previous workplace?\",\n",
    "                 \"Have you observed or experienced supportive or well handled response to a mental health issue in your current or previous workplace?\"]\n",
    "\n",
    "ratings = df.columns[df.columns.str.contains(\"Overall\")]\n",
    "\n",
    "demographics = [\"What is your age?\",\"What is your gender?\",\"What country do you live in?\",\n",
    "                \"What US state or territory do you live in?\",\"What is your race?\"]\n",
    "\n",
    "comfort_talking_current = [\"Would you feel comfortable discussing a mental health issue with your direct supervisor(s)?\",\n",
    "                           \"Have you ever discussed your mental health with your employer?\",\n",
    "                           \"Would you feel comfortable discussing a mental health issue with your coworkers?\",\n",
    "                           \"Have you ever discussed your mental health with coworkers?\",\n",
    "                           \"Have you ever had a coworker discuss their or another coworker's mental health with you?\",\n",
    "                           \"Would you feel more comfortable talking to your coworkers about your physical health or your mental health?\",\n",
    "                           \"Would you bring up your mental health with a potential employer in an interview?\",\n",
    "                           \"Are you openly identified at work as a person with a mental health issue?\"]\n",
    "\n",
    "comfort_talking_previous = [\"Would you have felt more comfortable talking to your previous employer about your physical health or your mental health?\",\n",
    "                            \"Would you have been willing to discuss your mental health with your direct supervisor(s)?\",\n",
    "                            \"Did you ever discuss your mental health with your previous employer?\",\n",
    "                            \"Would you have been willing to discuss your mental health with your coworkers at previous employers?\",\n",
    "                            \"Did you ever discuss your mental health with a previous coworker(s)?\",\n",
    "                            \"Did you ever have a previous coworker discuss their or another coworker's mental health with you?\",\n",
    "                            \"Would you bring up your mental health with a potential employer in an interview?\",\n",
    "                            \"Are you openly identified at work as a person with a mental health issue?\"]\n",
    "\n",
    "comfort_dependent_var = [\"Would you feel comfortable discussing a mental health issue with your direct supervisor(s)?\",\n",
    "                           \"Have you ever discussed your mental health with your employer?\",\n",
    "                           \"Would you feel comfortable discussing a mental health issue with your coworkers?\",\n",
    "                           \"Have you ever discussed your mental health with coworkers?\",\n",
    "                           \"Have you ever had a coworker discuss their or another coworker's mental health with you?\",\n",
    "                           \"Would you feel more comfortable talking to your coworkers about your physical health or your mental health?\",\n",
    "                           \"Would you have felt more comfortable talking to your previous employer about your physical health or your mental health?\",\n",
    "                           \"Would you have been willing to discuss your mental health with your direct supervisor(s)?\",\n",
    "                           \"Did you ever discuss your mental health with your previous employer?\",\n",
    "                           \"Would you have been willing to discuss your mental health with your coworkers at previous employers?\",\n",
    "                           \"Did you ever discuss your mental health with a previous coworker(s)?\",\n",
    "                           \"Did you ever have a previous coworker discuss their or another coworker's mental health with you?\",\n",
    "                           \"Would you bring up your mental health with a potential employer in an interview?\",\n",
    "                           \"Are you openly identified at work as a person with a mental health issue?\"]\n",
    "\n",
    "categories = [current_mh_coverage,previous_mh_coverage,mh_status,witnessed_exp,\n",
    "              ratings,comfort_talking_current,comfort_talking_previous,comfort_dependent_var]"
   ]
  },
  {
   "cell_type": "code",
   "execution_count": 4,
   "metadata": {},
   "outputs": [],
   "source": [
    "def make_dummies(question,columns_to_keep = \"Yes\"):\n",
    "    '''\n",
    "    The function creates dummy variables for independent variables.\n",
    "    You can specify the column to KEEP.\n",
    "    \n",
    "    Inputs:\n",
    "    ------\n",
    "    question: the question/column name that you wish to create a dummy vairable for\n",
    "    columns_to_keep: a string indicating the answer you want to keep\n",
    "    \n",
    "    Returns:\n",
    "    -------\n",
    "    result: a DataFrame of the desire column in dummy variables.\n",
    "    '''\n",
    "    \n",
    "    dummies = pd.get_dummies(df_2.loc[:,question])\n",
    "    for j in range(len(dummies.columns)):\n",
    "        name = question + \"__\" + columns_to_keep\n",
    "        dummies.rename(columns = {columns_to_keep : name},inplace=True)\n",
    "\n",
    "    result = dummies.loc[:,[name]]\n",
    "    \n",
    "    return result\n",
    "\n",
    "def make_dummies_iloc(question,list_to_keep):\n",
    "    '''\n",
    "    The function creates dummy variables for independent variables.\n",
    "    This is designed for instances when you need to keep multiple responses.\n",
    "    \n",
    "    Input:\n",
    "    ------\n",
    "    question: the question/column name that you wish to create a dummy variable for\n",
    "    list_to_keep: a list of numbers corresponding the column numbers of the responses \n",
    "                  (after it has been converted to dummy variables) that you want to keep\n",
    "    \n",
    "    Returns:\n",
    "    -------\n",
    "    result: A DataFrame of the desire column in dummy variables.\n",
    "    \n",
    "    '''\n",
    "    \n",
    "    dummies = pd.get_dummies(df_2.loc[:,question])\n",
    "    for j in range(len(dummies.columns)):\n",
    "        name = question + \"__\" + dummies.columns[j]\n",
    "        dummies.rename(columns = {dummies.columns[j] : name},inplace=True)\n",
    "    \n",
    "    result = pd.DataFrame()\n",
    "    for num in list_to_keep:\n",
    "        to_keep = dummies.iloc[:,num]\n",
    "        result = pd.concat([result,to_keep],axis=1)\n",
    "    \n",
    "    return result"
   ]
  },
  {
   "cell_type": "code",
   "execution_count": 5,
   "metadata": {},
   "outputs": [],
   "source": [
    "# making a copy\n",
    "df_2 = df.copy()"
   ]
  },
  {
   "cell_type": "code",
   "execution_count": 6,
   "metadata": {},
   "outputs": [],
   "source": [
    "# set up 2 dataframes for concatenating data\n",
    "omitted = pd.DataFrame(columns = [\"Question\",\"Answer\"])\n",
    "final = pd.DataFrame()"
   ]
  },
  {
   "cell_type": "code",
   "execution_count": 7,
   "metadata": {
    "scrolled": true
   },
   "outputs": [],
   "source": [
    "# current_mh_coverage\n",
    "for i in [0,2,3]:\n",
    "    result = make_dummies(current_mh_coverage[i],\"Yes\")\n",
    "    final = pd.concat([final,result],axis = 1)\n",
    "\n",
    "result = make_dummies_iloc(current_mh_coverage[5],[2,-2,-1])\n",
    "final = pd.concat([final,result],axis = 1)"
   ]
  },
  {
   "cell_type": "code",
   "execution_count": 8,
   "metadata": {
    "scrolled": true
   },
   "outputs": [],
   "source": [
    "# witnessed_exp\n",
    "result = make_dummies(witnessed_exp[0],\"Yes\")\n",
    "final = pd.concat([final,result],axis = 1)"
   ]
  },
  {
   "cell_type": "code",
   "execution_count": 9,
   "metadata": {},
   "outputs": [],
   "source": [
    "# mh_status\n",
    "\n",
    "# Modifying some responses for ease of sorting\n",
    "old_answer_1 = \"Possibly\"\n",
    "old_answer_2 = \"-1\"\n",
    "answer = \"Don't Know\"\n",
    "\n",
    "to_dummy = []\n",
    "for i in [0,1,-5,-3,-1]:\n",
    "    to_dummy.append(mh_status[i])\n",
    "\n",
    "for num in [0,2]:\n",
    "    df_2.loc[:,to_dummy[num]][df_2.loc[:,to_dummy[num]]==old_answer_1]=answer\n",
    "\n",
    "df_2.loc[:,to_dummy[2]][df_2.loc[:,to_dummy[2]]==old_answer_2]=answer\n",
    "\n",
    "#creating dummy variables\n",
    "result = make_dummies(to_dummy[0],\"Yes\")\n",
    "final = pd.concat([final,result],axis = 1)\n",
    "\n",
    "for i in [2,3,4,5,6,7,8,9,10,11,12,13,15,17]:\n",
    "    final = pd.concat([final,df_2.loc[:,mh_status[i]]],axis = 1)"
   ]
  },
  {
   "cell_type": "code",
   "execution_count": 10,
   "metadata": {},
   "outputs": [],
   "source": [
    "# ratings\n",
    "for i in [1,4]:\n",
    "    final = pd.concat([final,df_2.loc[:,ratings[i]]],axis = 1)"
   ]
  },
  {
   "cell_type": "code",
   "execution_count": 11,
   "metadata": {},
   "outputs": [],
   "source": [
    "# Finalizing the table of independent variables\n",
    "independent_q1 = final"
   ]
  },
  {
   "cell_type": "markdown",
   "metadata": {},
   "source": [
    "#### Dependent Variables for Q1\n",
    "------"
   ]
  },
  {
   "cell_type": "code",
   "execution_count": 12,
   "metadata": {},
   "outputs": [],
   "source": [
    "# creating a table of dependent variables after turning the responses into dummy variables\n",
    "dependent = df.loc[:,comfort_dependent_var]\n",
    "\n",
    "num_list = [0,2,5,6,7,9,12]\n",
    "columns_to_join = [1,3,4,8,10,11,13]\n",
    "\n",
    "final_dep = pd.get_dummies(dependent.iloc[:,num_list])\n",
    "\n",
    "for i in columns_to_join:\n",
    "    result = pd.get_dummies(dependent.iloc[:,i])\n",
    "    final_dep = pd.concat([final_dep,result],axis=1)"
   ]
  },
  {
   "cell_type": "markdown",
   "metadata": {},
   "source": [
    "#### Predicting classes\n",
    "------"
   ]
  },
  {
   "cell_type": "markdown",
   "metadata": {},
   "source": [
    "Models Used:\n",
    "\n",
    "- KMeans Clustering"
   ]
  },
  {
   "cell_type": "code",
   "execution_count": 13,
   "metadata": {
    "scrolled": true
   },
   "outputs": [],
   "source": [
    "# KMeans Clustering\n",
    "X_alt = final_dep\n",
    "\n",
    "inertia = []\n",
    "\n",
    "for num in range(1,21):\n",
    "    k_means_model = KMeans(n_clusters = num)\n",
    "    k_means_model.fit(X_alt)\n",
    "\n",
    "    y_pred2_alt = k_means_model.predict(X_alt)\n",
    "    inertia.append(k_means_model.inertia_)"
   ]
  },
  {
   "cell_type": "code",
   "execution_count": 14,
   "metadata": {},
   "outputs": [
    {
     "data": {
      "image/png": "[encoded data removed]",
      "text/plain": [
       "<Figure size 432x288 with 1 Axes>"
      ]
     },
     "metadata": {
      "needs_background": "light"
     },
     "output_type": "display_data"
    }
   ],
   "source": [
    "plt.scatter(np.arange(1,21),inertia);"
   ]
  },
  {
   "cell_type": "code",
   "execution_count": 15,
   "metadata": {},
   "outputs": [
    {
     "data": {
      "text/plain": [
       "0\n",
       "0    154\n",
       "1    491\n",
       "2    385\n",
       "3    143\n",
       "Name: 0, dtype: int64"
      ]
     },
     "execution_count": 15,
     "metadata": {},
     "output_type": "execute_result"
    }
   ],
   "source": [
    "k_means_model = KMeans(n_clusters = 4)\n",
    "k_means_model.fit(X_alt)\n",
    "\n",
    "y_pred2_alt = k_means_model.predict(X_alt)\n",
    "\n",
    "b_alt = pd.DataFrame(y_pred2_alt)\n",
    "b_alt[0].groupby(b_alt[0]).count()"
   ]
  },
  {
   "cell_type": "code",
   "execution_count": 16,
   "metadata": {},
   "outputs": [],
   "source": [
    "b_alt.rename(columns = {0 : \"Classes\"},inplace=True)"
   ]
  },
  {
   "cell_type": "code",
   "execution_count": 17,
   "metadata": {},
   "outputs": [],
   "source": [
    "#b_alt.to_csv(\"saved_csv/q1_dependent_alt.csv\")"
   ]
  },
  {
   "cell_type": "markdown",
   "metadata": {},
   "source": [
    "Since there is a factor of randomness in KMeans Clustering, the code will generate different counts with each iteration. Since the goal is to generate a cluster of 4 classes with an approximately normal distribution, the following cluster count will be used for the analysis:\n",
    "\n",
    "|Class|Count|\n",
    "|------|------|\n",
    "|0|143|\n",
    "|1|490|\n",
    "|2|386|\n",
    "|3|154|"
   ]
  },
  {
   "cell_type": "markdown",
   "metadata": {},
   "source": [
    "### Q1 Qualitative insights for the tech industry to improve MH support for employees\n",
    "------"
   ]
  },
  {
   "cell_type": "code",
   "execution_count": 18,
   "metadata": {},
   "outputs": [],
   "source": [
    "# grabbing the dependent variables (after they have been clustered)\n",
    "dependent_class = pd.read_csv(\"saved_csv/q1_dependent_alt.csv\")\n",
    "dependent_class.drop('Unnamed: 0',axis=1,inplace=True)"
   ]
  },
  {
   "cell_type": "code",
   "execution_count": 19,
   "metadata": {},
   "outputs": [],
   "source": [
    "# simplifing dependent variables to 0/1\n",
    "dependent_class_alt = dependent_class.copy()\n",
    "\n",
    "dependent_class_alt[dependent_class_alt < 2] = 0\n",
    "dependent_class_alt[dependent_class_alt >= 2] = 1"
   ]
  },
  {
   "cell_type": "code",
   "execution_count": 20,
   "metadata": {},
   "outputs": [],
   "source": [
    "# Code source: https://github.com/mpavlovic/spacy-vectorizers\n",
    "# create a custom countvectorizer with SpaCy lemmatization\n",
    "\n",
    "class SpacyPipeInitializer(object):\n",
    "    def __init__(self, nlp, join_str=\" \", batch_size=10000, n_threads=2):\n",
    "        self.nlp = nlp\n",
    "        self.join_str = join_str\n",
    "        self.batch_size = batch_size\n",
    "        self.n_threads = n_threads\n",
    "        \n",
    "class SpacyPipeProcessor(SpacyPipeInitializer):\n",
    "    def __init__(self, nlp, multi_iters=False, join_str=\" \", batch_size=10000, n_threads=2):\n",
    "        super(SpacyPipeProcessor, self).__init__(nlp, join_str, batch_size, n_threads)\n",
    "        self.multi_iters = multi_iters\n",
    "    \n",
    "    def __call__(self, raw_documents):\n",
    "        docs_generator = self.nlp.pipe(raw_documents, batch_size=self.batch_size, n_threads=self.n_threads)\n",
    "        return docs_generator if self.multi_iters == False else list(docs_generator)\n",
    "    \n",
    "class SpacyLemmaCountVectorizer(CountVectorizer):\n",
    "    \n",
    "    def __init__(self, input='content', encoding='utf-8',\n",
    "                 decode_error='strict', strip_accents=None,\n",
    "                 lowercase=True, preprocessor=None, tokenizer=None,\n",
    "                 stop_words=None, token_pattern=r\"(?u)[^\\r\\n ]+\",\n",
    "                 ngram_range=(1, 1), analyzer='word',\n",
    "                 max_df=1.0, min_df=1, max_features=None,\n",
    "                 vocabulary=None, binary=False, dtype=np.int64, \n",
    "                 nlp=None, ignore_chars='!\"#$%&\\'()*+,./:;<=>?@[\\\\]^_`{|}~', \n",
    "                 join_str=\" \", use_pron=False):\n",
    "        \n",
    "        super().__init__(input, encoding, decode_error, strip_accents, \n",
    "                                                   lowercase, preprocessor, tokenizer,\n",
    "                                                   stop_words, token_pattern, ngram_range, \n",
    "                                                   analyzer, max_df, min_df, max_features,\n",
    "                                                   vocabulary, binary, dtype)\n",
    "        self.ignore_chars = ignore_chars\n",
    "        self.join_str = ' ' # lemmas have to be joined for splitting\n",
    "        self.use_pron = use_pron\n",
    "        self.translate_table = dict((ord(char), None) for char in self.ignore_chars)\n",
    "        \n",
    "    def lemmatize_from_docs(self, docs):\n",
    "        for doc in docs:\n",
    "            lemmas_gen = (token.lemma_.translate(self.translate_table) if self.use_pron or token.lemma_!='-PRON-' else token.lower_.translate(self.translate_table) for token in doc)  # generator expression\n",
    "            yield self.join_str.join(lemmas_gen) if self.join_str is not None else [lemma for lemma in lemmas_gen]\n",
    "    \n",
    "    def build_tokenizer(self):\n",
    "        return lambda doc: doc.split()\n",
    "    \n",
    "    def transform(self, spacy_docs):\n",
    "        raw_documents = self.lemmatize_from_docs(spacy_docs)\n",
    "        return super(SpacyLemmaCountVectorizer, self).transform(raw_documents)\n",
    "    \n",
    "    def fit_transform(self, spacy_docs, y=None):\n",
    "        raw_documents = self.lemmatize_from_docs(spacy_docs)\n",
    "        return super(SpacyLemmaCountVectorizer, self).fit_transform(raw_documents, y)"
   ]
  },
  {
   "cell_type": "code",
   "execution_count": 21,
   "metadata": {
    "scrolled": true
   },
   "outputs": [],
   "source": [
    "# Grabbing the responses as independent variables\n",
    "corpus = df.iloc[:,-9]\n",
    "\n",
    "# dependent variables -> ratings\n",
    "industry_rating = df.iloc[:,-10]\n",
    "\n",
    "# make the ratings from 1-5 to 0-4\n",
    "industry_rating = industry_rating - 1\n",
    "\n",
    "# combining all info into one table\n",
    "table_q4_alt = pd.concat([corpus,industry_rating,dependent_class_alt],axis=1)\n",
    "\n",
    "# dropping columns that did not answer the question\n",
    "index = table_q4_alt[table_q4_alt.iloc[:,0]==\"Did not answer\"].index\n",
    "\n",
    "table_q4_alt.drop(index,axis=0,inplace=True)"
   ]
  },
  {
   "cell_type": "code",
   "execution_count": 22,
   "metadata": {},
   "outputs": [],
   "source": [
    "# customization stopwords to filter out some words\n",
    "stopwords = set(STOPWORDS)\n",
    "stopwords.update([\"mental\",\"health\",\"issue\",\"work\",\n",
    "                  \"take\",\"hour\",\"tech\",\"industry\",\"people\",\"employee\"])"
   ]
  },
  {
   "cell_type": "code",
   "execution_count": 23,
   "metadata": {},
   "outputs": [
    {
     "data": {
      "text/plain": [
       "<789x755 sparse matrix of type '<class 'numpy.int64'>'\n",
       "\twith 7266 stored elements in Compressed Sparse Row format>"
      ]
     },
     "execution_count": 23,
     "metadata": {},
     "output_type": "execute_result"
    }
   ],
   "source": [
    "# CountVectorizer with SpaCy Lemmatization\n",
    "nlp = spacy.load('en_core_web_md')\n",
    "\n",
    "spp = SpacyPipeProcessor(nlp, n_threads=1, multi_iters=True)\n",
    "spacy_docs = spp(table_q4_alt.iloc[:,0]);\n",
    "\n",
    "slcv = SpacyLemmaCountVectorizer(min_df=3,stop_words=stopwords, ngram_range=(1, 3), ignore_chars='!\"#$%&\\'()*+,-./:;<=>?@[\\\\]^_`{|}~')\n",
    "slcv.fit(spacy_docs)\n",
    "count_vectors = slcv.transform(spacy_docs); count_vectors"
   ]
  },
  {
   "cell_type": "code",
   "execution_count": 24,
   "metadata": {
    "scrolled": false
   },
   "outputs": [
    {
     "data": {
      "image/png": "[encoded data removed]",
      "text/plain": [
       "<Figure size 432x288 with 1 Axes>"
      ]
     },
     "metadata": {
      "needs_background": "light"
     },
     "output_type": "display_data"
    }
   ],
   "source": [
    "# Pulling out the list of parsed words and put them into a wordcloud\n",
    "list_of_words = slcv.vocabulary_.keys()\n",
    "list_of_words = list(list_of_words)\n",
    "list_of_words.sort()\n",
    "\n",
    "wordcloud = WordCloud(background_color=\"white\").generate(\" \".join(list_of_words))\n",
    "\n",
    "plt.imshow(wordcloud, interpolation=\"bilinear\")\n",
    "plt.axis(\"off\")\n",
    "plt.show();"
   ]
  },
  {
   "cell_type": "markdown",
   "metadata": {},
   "source": [
    "### Q2 - Factors that affect comfort level in discussing MH at workplace\n",
    "------"
   ]
  },
  {
   "cell_type": "code",
   "execution_count": 25,
   "metadata": {},
   "outputs": [],
   "source": [
    "def make_dummies_q(column_num,column_name):\n",
    "    '''\n",
    "    This function creates a dummy variable for a particular column,\n",
    "    and drops a column to avoid multicollinearity since the responses will be included in the independent variables.\n",
    "    \n",
    "    Inputs:\n",
    "    ------\n",
    "    column_num = an integer of the number of column/question you wish to create a dummy variable for\n",
    "    column_name = the response that you wish to drop to avoid multicollinearity\n",
    "    \n",
    "    Returns:\n",
    "    -------\n",
    "    result = a DataFrame of dummy variables, containing n-1 answers\n",
    "    '''\n",
    "\n",
    "    result = pd.get_dummies(df_2.iloc[:,column_num])\n",
    "    result.drop(columns = column_name, inplace=True)\n",
    "    \n",
    "    return result"
   ]
  },
  {
   "cell_type": "code",
   "execution_count": 26,
   "metadata": {},
   "outputs": [],
   "source": [
    "# grabbing the dependent variables\n",
    "dependent_class = pd.read_csv(\"saved_csv/q1_dependent_alt.csv\")\n",
    "dependent_class.drop('Unnamed: 0',axis=1,inplace=True)"
   ]
  },
  {
   "cell_type": "code",
   "execution_count": 27,
   "metadata": {
    "scrolled": true
   },
   "outputs": [],
   "source": [
    "# What is your gender?\n",
    "gender = make_dummies_q(-7,\"Male\")"
   ]
  },
  {
   "cell_type": "code",
   "execution_count": 28,
   "metadata": {},
   "outputs": [],
   "source": [
    "# Grouping countries into 5 continents\n",
    "country_names = df_2.iloc[:,-6].groupby(df_2.iloc[:,-6]).count().index\n",
    "\n",
    "df_2[\"countries_continent\"] = df_2.iloc[:,-6]\n",
    "\n",
    "north_am = [8,34,55]\n",
    "south_am = [0,6,9,56]\n",
    "asia = [3,20,23,24,26,28,29,39,43,44,46]\n",
    "africa = [14,30,33,37,48]\n",
    "europe = [2,4,5,7,10,11,13,15,16,17,18,19,21,22,25,27,31,32,35,38,40,41,42,45,47,49,50,51,52,53,54]\n",
    "oceania = [1,36]\n",
    "did_not_answer = [12]\n",
    "\n",
    "continents = [north_am,south_am,asia,africa,europe,oceania,did_not_answer]\n",
    "names = [\"North America\", \"South America\", \"Asia\", \"Africa\", \"Europe\", \"Oceania\", \"Did not answer\"]\n",
    "\n",
    "for position,continent in enumerate(continents):\n",
    "    for num in np.flip(continent):\n",
    "        df_2.loc[:,\"countries_continent\"][df_2.loc[:,\"countries_continent\"]== country_names[num]]=names[position]\n",
    "        \n",
    "countries = make_dummies_q(-1,\"North America\")"
   ]
  },
  {
   "cell_type": "code",
   "execution_count": 29,
   "metadata": {},
   "outputs": [],
   "source": [
    "# What is your race?\n",
    "races = make_dummies_q(-5,\"Caucasian\")"
   ]
  },
  {
   "cell_type": "code",
   "execution_count": 30,
   "metadata": {},
   "outputs": [],
   "source": [
    "# company_size\n",
    "company_size = make_dummies_q(2,\"0\")\n",
    "\n",
    "# select companies with larger size into the independent variables\n",
    "size = company_size.iloc[:,[3,5]]"
   ]
  },
  {
   "cell_type": "code",
   "execution_count": 31,
   "metadata": {},
   "outputs": [],
   "source": [
    "# Creating a table of demographics\n",
    "demographics = pd.concat([gender,countries,races,df_2.iloc[:,[-9,1,3,4]],size],axis=1)"
   ]
  },
  {
   "cell_type": "code",
   "execution_count": 32,
   "metadata": {},
   "outputs": [],
   "source": [
    "# creating features/independent variables\n",
    "independent_q1_alt = pd.concat([independent_q1,demographics],axis=1)"
   ]
  },
  {
   "cell_type": "code",
   "execution_count": 33,
   "metadata": {
    "scrolled": true
   },
   "outputs": [
    {
     "name": "stdout",
     "output_type": "stream",
     "text": [
      "Optimization terminated successfully.    (Exit mode 0)\n",
      "            Current function value: 0.511112099495514\n",
      "            Iterations: 96\n",
      "            Function evaluations: 97\n",
      "            Gradient evaluations: 96\n"
     ]
    },
    {
     "data": {
      "text/html": [
       "<table class=\"simpletable\">\n",
       "<caption>Logit Regression Results</caption>\n",
       "<tr>\n",
       "  <th>Dep. Variable:</th>      <td>Classes</td>     <th>  No. Observations:  </th>  <td>  1173</td>  \n",
       "</tr>\n",
       "<tr>\n",
       "  <th>Model:</th>               <td>Logit</td>      <th>  Df Residuals:      </th>  <td>  1120</td>  \n",
       "</tr>\n",
       "<tr>\n",
       "  <th>Method:</th>               <td>MLE</td>       <th>  Df Model:          </th>  <td>    52</td>  \n",
       "</tr>\n",
       "<tr>\n",
       "  <th>Date:</th>          <td>Sat, 23 Mar 2019</td> <th>  Pseudo R-squ.:     </th>  <td>0.2593</td>  \n",
       "</tr>\n",
       "<tr>\n",
       "  <th>Time:</th>              <td>09:13:23</td>     <th>  Log-Likelihood:    </th> <td> -599.53</td> \n",
       "</tr>\n",
       "<tr>\n",
       "  <th>converged:</th>           <td>True</td>       <th>  LL-Null:           </th> <td> -809.37</td> \n",
       "</tr>\n",
       "<tr>\n",
       "  <th> </th>                      <td> </td>        <th>  LLR p-value:       </th> <td>6.030e-59</td>\n",
       "</tr>\n",
       "</table>\n",
       "<table class=\"simpletable\">\n",
       "<tr>\n",
       "    <td></td>       <th>coef</th>     <th>std err</th>      <th>z</th>      <th>P>|z|</th>  <th>[0.025</th>    <th>0.975]</th>  \n",
       "</tr>\n",
       "<tr>\n",
       "  <th>const</th> <td>   -0.0962</td> <td>  436.744</td> <td>   -0.000</td> <td> 1.000</td> <td> -856.098</td> <td>  855.906</td>\n",
       "</tr>\n",
       "<tr>\n",
       "  <th>x1</th>    <td>    0.1001</td> <td>    0.090</td> <td>    1.113</td> <td> 0.266</td> <td>   -0.076</td> <td>    0.276</td>\n",
       "</tr>\n",
       "<tr>\n",
       "  <th>x2</th>    <td>    0.0179</td> <td>    0.087</td> <td>    0.205</td> <td> 0.837</td> <td>   -0.153</td> <td>    0.188</td>\n",
       "</tr>\n",
       "<tr>\n",
       "  <th>x3</th>    <td>   -0.0047</td> <td>    0.090</td> <td>   -0.053</td> <td> 0.958</td> <td>   -0.181</td> <td>    0.172</td>\n",
       "</tr>\n",
       "<tr>\n",
       "  <th>x4</th>    <td>    0.1851</td> <td>    0.076</td> <td>    2.436</td> <td> 0.015</td> <td>    0.036</td> <td>    0.334</td>\n",
       "</tr>\n",
       "<tr>\n",
       "  <th>x5</th>    <td>    0.2505</td> <td>    0.082</td> <td>    3.037</td> <td> 0.002</td> <td>    0.089</td> <td>    0.412</td>\n",
       "</tr>\n",
       "<tr>\n",
       "  <th>x6</th>    <td>    0.2713</td> <td>    0.084</td> <td>    3.215</td> <td> 0.001</td> <td>    0.106</td> <td>    0.437</td>\n",
       "</tr>\n",
       "<tr>\n",
       "  <th>x7</th>    <td>   -0.0548</td> <td>    0.076</td> <td>   -0.720</td> <td> 0.472</td> <td>   -0.204</td> <td>    0.095</td>\n",
       "</tr>\n",
       "<tr>\n",
       "  <th>x8</th>    <td>    0.0558</td> <td>    0.103</td> <td>    0.543</td> <td> 0.587</td> <td>   -0.146</td> <td>    0.257</td>\n",
       "</tr>\n",
       "<tr>\n",
       "  <th>x9</th>    <td>    0.0765</td> <td>    0.085</td> <td>    0.900</td> <td> 0.368</td> <td>   -0.090</td> <td>    0.243</td>\n",
       "</tr>\n",
       "<tr>\n",
       "  <th>x10</th>   <td>    0.0178</td> <td>    0.090</td> <td>    0.197</td> <td> 0.844</td> <td>   -0.159</td> <td>    0.195</td>\n",
       "</tr>\n",
       "<tr>\n",
       "  <th>x11</th>   <td>    0.0627</td> <td>    0.073</td> <td>    0.861</td> <td> 0.389</td> <td>   -0.080</td> <td>    0.205</td>\n",
       "</tr>\n",
       "<tr>\n",
       "  <th>x12</th>   <td>   -0.0190</td> <td>    0.072</td> <td>   -0.263</td> <td> 0.792</td> <td>   -0.160</td> <td>    0.122</td>\n",
       "</tr>\n",
       "<tr>\n",
       "  <th>x13</th>   <td>   -0.0062</td> <td>    0.075</td> <td>   -0.082</td> <td> 0.934</td> <td>   -0.154</td> <td>    0.142</td>\n",
       "</tr>\n",
       "<tr>\n",
       "  <th>x14</th>   <td>   -0.0959</td> <td>    0.076</td> <td>   -1.256</td> <td> 0.209</td> <td>   -0.246</td> <td>    0.054</td>\n",
       "</tr>\n",
       "<tr>\n",
       "  <th>x15</th>   <td>   -0.0441</td> <td>    0.073</td> <td>   -0.606</td> <td> 0.544</td> <td>   -0.187</td> <td>    0.098</td>\n",
       "</tr>\n",
       "<tr>\n",
       "  <th>x16</th>   <td>    0.0734</td> <td>    0.077</td> <td>    0.957</td> <td> 0.339</td> <td>   -0.077</td> <td>    0.224</td>\n",
       "</tr>\n",
       "<tr>\n",
       "  <th>x17</th>   <td>    0.1380</td> <td>    0.076</td> <td>    1.811</td> <td> 0.070</td> <td>   -0.011</td> <td>    0.287</td>\n",
       "</tr>\n",
       "<tr>\n",
       "  <th>x18</th>   <td>    0.0681</td> <td>    0.072</td> <td>    0.942</td> <td> 0.346</td> <td>   -0.074</td> <td>    0.210</td>\n",
       "</tr>\n",
       "<tr>\n",
       "  <th>x19</th>   <td>    1.1608</td> <td>  209.425</td> <td>    0.006</td> <td> 0.996</td> <td> -409.305</td> <td>  411.626</td>\n",
       "</tr>\n",
       "<tr>\n",
       "  <th>x20</th>   <td>   -0.0155</td> <td>    0.077</td> <td>   -0.200</td> <td> 0.841</td> <td>   -0.167</td> <td>    0.136</td>\n",
       "</tr>\n",
       "<tr>\n",
       "  <th>x21</th>   <td>    0.3603</td> <td>    0.098</td> <td>    3.679</td> <td> 0.000</td> <td>    0.168</td> <td>    0.552</td>\n",
       "</tr>\n",
       "<tr>\n",
       "  <th>x22</th>   <td>    0.4822</td> <td>    0.084</td> <td>    5.716</td> <td> 0.000</td> <td>    0.317</td> <td>    0.648</td>\n",
       "</tr>\n",
       "<tr>\n",
       "  <th>x23</th>   <td>    0.2797</td> <td>    0.085</td> <td>    3.287</td> <td> 0.001</td> <td>    0.113</td> <td>    0.446</td>\n",
       "</tr>\n",
       "<tr>\n",
       "  <th>x24</th>   <td>    0.0100</td> <td>    0.080</td> <td>    0.124</td> <td> 0.901</td> <td>   -0.147</td> <td>    0.167</td>\n",
       "</tr>\n",
       "<tr>\n",
       "  <th>x25</th>   <td>   -0.0266</td> <td>    0.081</td> <td>   -0.331</td> <td> 0.741</td> <td>   -0.184</td> <td>    0.131</td>\n",
       "</tr>\n",
       "<tr>\n",
       "  <th>x26</th>   <td>    0.1029</td> <td>    0.078</td> <td>    1.321</td> <td> 0.187</td> <td>   -0.050</td> <td>    0.256</td>\n",
       "</tr>\n",
       "<tr>\n",
       "  <th>x27</th>   <td>   -0.0176</td> <td>    0.071</td> <td>   -0.247</td> <td> 0.805</td> <td>   -0.157</td> <td>    0.122</td>\n",
       "</tr>\n",
       "<tr>\n",
       "  <th>x28</th>   <td>   -0.0781</td> <td>    0.080</td> <td>   -0.977</td> <td> 0.329</td> <td>   -0.235</td> <td>    0.079</td>\n",
       "</tr>\n",
       "<tr>\n",
       "  <th>x29</th>   <td>   -0.0226</td> <td>    0.072</td> <td>   -0.314</td> <td> 0.753</td> <td>   -0.163</td> <td>    0.118</td>\n",
       "</tr>\n",
       "<tr>\n",
       "  <th>x30</th>   <td>   -0.0042</td> <td>    0.078</td> <td>   -0.054</td> <td> 0.957</td> <td>   -0.157</td> <td>    0.149</td>\n",
       "</tr>\n",
       "<tr>\n",
       "  <th>x31</th>   <td>   -0.0413</td> <td>    0.104</td> <td>   -0.396</td> <td> 0.692</td> <td>   -0.246</td> <td>    0.163</td>\n",
       "</tr>\n",
       "<tr>\n",
       "  <th>x32</th>   <td>    0.6939</td> <td> 1.48e+04</td> <td> 4.69e-05</td> <td> 1.000</td> <td> -2.9e+04</td> <td>  2.9e+04</td>\n",
       "</tr>\n",
       "<tr>\n",
       "  <th>x33</th>   <td>    0.2260</td> <td>    0.152</td> <td>    1.489</td> <td> 0.136</td> <td>   -0.071</td> <td>    0.523</td>\n",
       "</tr>\n",
       "<tr>\n",
       "  <th>x34</th>   <td>    0.2493</td> <td>    0.093</td> <td>    2.677</td> <td> 0.007</td> <td>    0.067</td> <td>    0.432</td>\n",
       "</tr>\n",
       "<tr>\n",
       "  <th>x35</th>   <td>    0.1509</td> <td>    0.082</td> <td>    1.837</td> <td> 0.066</td> <td>   -0.010</td> <td>    0.312</td>\n",
       "</tr>\n",
       "<tr>\n",
       "  <th>x36</th>   <td>   -0.0408</td> <td>    0.068</td> <td>   -0.596</td> <td> 0.551</td> <td>   -0.175</td> <td>    0.093</td>\n",
       "</tr>\n",
       "<tr>\n",
       "  <th>x37</th>   <td>    0.5103</td> <td>  202.055</td> <td>    0.003</td> <td> 0.998</td> <td> -395.510</td> <td>  396.530</td>\n",
       "</tr>\n",
       "<tr>\n",
       "  <th>x38</th>   <td>    0.0719</td> <td>    0.076</td> <td>    0.943</td> <td> 0.346</td> <td>   -0.078</td> <td>    0.221</td>\n",
       "</tr>\n",
       "<tr>\n",
       "  <th>x39</th>   <td>   -0.7073</td> <td>  166.351</td> <td>   -0.004</td> <td> 0.997</td> <td> -326.750</td> <td>  325.335</td>\n",
       "</tr>\n",
       "<tr>\n",
       "  <th>x40</th>   <td>   -0.3207</td> <td>    0.162</td> <td>   -1.979</td> <td> 0.048</td> <td>   -0.638</td> <td>   -0.003</td>\n",
       "</tr>\n",
       "<tr>\n",
       "  <th>x41</th>   <td>   -0.1201</td> <td>    0.073</td> <td>   -1.637</td> <td> 0.102</td> <td>   -0.264</td> <td>    0.024</td>\n",
       "</tr>\n",
       "<tr>\n",
       "  <th>x42</th>   <td>   -0.5154</td> <td>  215.610</td> <td>   -0.002</td> <td> 0.998</td> <td> -423.102</td> <td>  422.072</td>\n",
       "</tr>\n",
       "<tr>\n",
       "  <th>x43</th>   <td>   -0.8341</td> <td> 1038.819</td> <td>   -0.001</td> <td> 0.999</td> <td>-2036.882</td> <td> 2035.214</td>\n",
       "</tr>\n",
       "<tr>\n",
       "  <th>x44</th>   <td>   -0.5306</td> <td>  536.814</td> <td>   -0.001</td> <td> 0.999</td> <td>-1052.666</td> <td> 1051.605</td>\n",
       "</tr>\n",
       "<tr>\n",
       "  <th>x45</th>   <td>   -0.0123</td> <td>    0.070</td> <td>   -0.175</td> <td> 0.861</td> <td>   -0.150</td> <td>    0.125</td>\n",
       "</tr>\n",
       "<tr>\n",
       "  <th>x46</th>   <td>    0.5537</td> <td> 1218.918</td> <td>    0.000</td> <td> 1.000</td> <td>-2388.481</td> <td> 2389.589</td>\n",
       "</tr>\n",
       "<tr>\n",
       "  <th>x47</th>   <td>    0.2067</td> <td>    0.078</td> <td>    2.657</td> <td> 0.008</td> <td>    0.054</td> <td>    0.359</td>\n",
       "</tr>\n",
       "<tr>\n",
       "  <th>x48</th>   <td>    1.4981</td> <td>    0.271</td> <td>    5.528</td> <td> 0.000</td> <td>    0.967</td> <td>    2.029</td>\n",
       "</tr>\n",
       "<tr>\n",
       "  <th>x49</th>   <td>    0.1030</td> <td>    0.138</td> <td>    0.746</td> <td> 0.456</td> <td>   -0.168</td> <td>    0.374</td>\n",
       "</tr>\n",
       "<tr>\n",
       "  <th>x50</th>   <td>    0.1169</td> <td>    0.224</td> <td>    0.522</td> <td> 0.601</td> <td>   -0.322</td> <td>    0.555</td>\n",
       "</tr>\n",
       "<tr>\n",
       "  <th>x51</th>   <td>   -0.0632</td> <td>    0.071</td> <td>   -0.886</td> <td> 0.375</td> <td>   -0.203</td> <td>    0.077</td>\n",
       "</tr>\n",
       "<tr>\n",
       "  <th>x52</th>   <td>   -0.1649</td> <td>    0.080</td> <td>   -2.061</td> <td> 0.039</td> <td>   -0.322</td> <td>   -0.008</td>\n",
       "</tr>\n",
       "</table>"
      ],
      "text/plain": [
       "<class 'statsmodels.iolib.summary.Summary'>\n",
       "\"\"\"\n",
       "                           Logit Regression Results                           \n",
       "==============================================================================\n",
       "Dep. Variable:                Classes   No. Observations:                 1173\n",
       "Model:                          Logit   Df Residuals:                     1120\n",
       "Method:                           MLE   Df Model:                           52\n",
       "Date:                Sat, 23 Mar 2019   Pseudo R-squ.:                  0.2593\n",
       "Time:                        09:13:23   Log-Likelihood:                -599.53\n",
       "converged:                       True   LL-Null:                       -809.37\n",
       "                                        LLR p-value:                 6.030e-59\n",
       "==============================================================================\n",
       "                 coef    std err          z      P>|z|      [0.025      0.975]\n",
       "------------------------------------------------------------------------------\n",
       "const         -0.0962    436.744     -0.000      1.000    -856.098     855.906\n",
       "x1             0.1001      0.090      1.113      0.266      -0.076       0.276\n",
       "x2             0.0179      0.087      0.205      0.837      -0.153       0.188\n",
       "x3            -0.0047      0.090     -0.053      0.958      -0.181       0.172\n",
       "x4             0.1851      0.076      2.436      0.015       0.036       0.334\n",
       "x5             0.2505      0.082      3.037      0.002       0.089       0.412\n",
       "x6             0.2713      0.084      3.215      0.001       0.106       0.437\n",
       "x7            -0.0548      0.076     -0.720      0.472      -0.204       0.095\n",
       "x8             0.0558      0.103      0.543      0.587      -0.146       0.257\n",
       "x9             0.0765      0.085      0.900      0.368      -0.090       0.243\n",
       "x10            0.0178      0.090      0.197      0.844      -0.159       0.195\n",
       "x11            0.0627      0.073      0.861      0.389      -0.080       0.205\n",
       "x12           -0.0190      0.072     -0.263      0.792      -0.160       0.122\n",
       "x13           -0.0062      0.075     -0.082      0.934      -0.154       0.142\n",
       "x14           -0.0959      0.076     -1.256      0.209      -0.246       0.054\n",
       "x15           -0.0441      0.073     -0.606      0.544      -0.187       0.098\n",
       "x16            0.0734      0.077      0.957      0.339      -0.077       0.224\n",
       "x17            0.1380      0.076      1.811      0.070      -0.011       0.287\n",
       "x18            0.0681      0.072      0.942      0.346      -0.074       0.210\n",
       "x19            1.1608    209.425      0.006      0.996    -409.305     411.626\n",
       "x20           -0.0155      0.077     -0.200      0.841      -0.167       0.136\n",
       "x21            0.3603      0.098      3.679      0.000       0.168       0.552\n",
       "x22            0.4822      0.084      5.716      0.000       0.317       0.648\n",
       "x23            0.2797      0.085      3.287      0.001       0.113       0.446\n",
       "x24            0.0100      0.080      0.124      0.901      -0.147       0.167\n",
       "x25           -0.0266      0.081     -0.331      0.741      -0.184       0.131\n",
       "x26            0.1029      0.078      1.321      0.187      -0.050       0.256\n",
       "x27           -0.0176      0.071     -0.247      0.805      -0.157       0.122\n",
       "x28           -0.0781      0.080     -0.977      0.329      -0.235       0.079\n",
       "x29           -0.0226      0.072     -0.314      0.753      -0.163       0.118\n",
       "x30           -0.0042      0.078     -0.054      0.957      -0.157       0.149\n",
       "x31           -0.0413      0.104     -0.396      0.692      -0.246       0.163\n",
       "x32            0.6939   1.48e+04   4.69e-05      1.000    -2.9e+04     2.9e+04\n",
       "x33            0.2260      0.152      1.489      0.136      -0.071       0.523\n",
       "x34            0.2493      0.093      2.677      0.007       0.067       0.432\n",
       "x35            0.1509      0.082      1.837      0.066      -0.010       0.312\n",
       "x36           -0.0408      0.068     -0.596      0.551      -0.175       0.093\n",
       "x37            0.5103    202.055      0.003      0.998    -395.510     396.530\n",
       "x38            0.0719      0.076      0.943      0.346      -0.078       0.221\n",
       "x39           -0.7073    166.351     -0.004      0.997    -326.750     325.335\n",
       "x40           -0.3207      0.162     -1.979      0.048      -0.638      -0.003\n",
       "x41           -0.1201      0.073     -1.637      0.102      -0.264       0.024\n",
       "x42           -0.5154    215.610     -0.002      0.998    -423.102     422.072\n",
       "x43           -0.8341   1038.819     -0.001      0.999   -2036.882    2035.214\n",
       "x44           -0.5306    536.814     -0.001      0.999   -1052.666    1051.605\n",
       "x45           -0.0123      0.070     -0.175      0.861      -0.150       0.125\n",
       "x46            0.5537   1218.918      0.000      1.000   -2388.481    2389.589\n",
       "x47            0.2067      0.078      2.657      0.008       0.054       0.359\n",
       "x48            1.4981      0.271      5.528      0.000       0.967       2.029\n",
       "x49            0.1030      0.138      0.746      0.456      -0.168       0.374\n",
       "x50            0.1169      0.224      0.522      0.601      -0.322       0.555\n",
       "x51           -0.0632      0.071     -0.886      0.375      -0.203       0.077\n",
       "x52           -0.1649      0.080     -2.061      0.039      -0.322      -0.008\n",
       "==============================================================================\n",
       "\"\"\""
      ]
     },
     "execution_count": 33,
     "metadata": {},
     "output_type": "execute_result"
    }
   ],
   "source": [
    "# p-value WITH DEMOGRAPHICS\n",
    "\n",
    "X_1 = independent_q1_alt\n",
    "Y_1 = dependent_class_alt\n",
    "\n",
    "scaler = preprocessing.StandardScaler()\n",
    "scaler.fit(X_1)\n",
    "X_transformed_1 = scaler.transform(X_1)\n",
    "\n",
    "X_transformed_1 = np.hstack([np.ones([X_transformed_1.shape[0],1]), X_transformed_1])\n",
    "\n",
    "logit = sm.Logit(Y_1, X_transformed_1)\n",
    "fitted_model_demo = logit.fit_regularized()\n",
    "fitted_model_demo.summary()\n",
    "\n",
    "# alpha = 0.05\n",
    "# all features together are significant\n",
    "# Columns that are significant: 3,4,5,20,21,22,33,39,46,47,51"
   ]
  },
  {
   "cell_type": "code",
   "execution_count": 34,
   "metadata": {},
   "outputs": [],
   "source": [
    "# Creating a model to get the feature importances\n",
    "ind_q1 = independent_q1_alt.copy()\n",
    "ind_q1.columns = [np.arange(len(ind_q1.columns))]\n",
    "\n",
    "X_train, X_test, y_train, y_test = train_test_split(ind_q1,dependent_class_alt,test_size = 0.2)\n",
    "\n",
    "estimators = [(\"normalize\", preprocessing.StandardScaler()),\n",
    "             (\"model\",LogisticRegression())]\n",
    "\n",
    "pipe = pipeline.Pipeline(estimators)\n",
    "\n",
    "param_grid = [{\"model\":[XGBClassifier()], \n",
    "               \"normalize\": [preprocessing.StandardScaler(), preprocessing.MinMaxScaler(), None],\n",
    "               \"model__max_depth\":[1,2,3,4,5],\"model__n_estimators\":[50,100,150,200],\"model__n_jobs\":[6]},\n",
    "              {\"model\": [RandomForestClassifier()],\n",
    "               \"normalize\": [preprocessing.StandardScaler(), preprocessing.MinMaxScaler(), None],\n",
    "               \"model__n_estimators\":[100,150,200],\"model__n_jobs\":[6]}]\n",
    "\n",
    "grid = GridSearchCV(pipe, param_grid, cv=5, n_jobs=6)\n",
    "fitted_grid_1 = grid.fit(X_train,y_train)"
   ]
  },
  {
   "cell_type": "code",
   "execution_count": 35,
   "metadata": {},
   "outputs": [
    {
     "data": {
      "text/plain": [
       "Pipeline(memory=None,\n",
       "     steps=[('normalize', StandardScaler(copy=True, with_mean=True, with_std=True)), ('model', XGBClassifier(base_score=0.5, booster='gbtree', colsample_bylevel=1,\n",
       "       colsample_bytree=1, gamma=0, learning_rate=0.1, max_delta_step=0,\n",
       "       max_depth=1, min_child_weight=1, missing=None, n_estimators=50,\n",
       "       n_jobs=6, nthread=None, objective='binary:logistic', random_state=0,\n",
       "       reg_alpha=0, reg_lambda=1, scale_pos_weight=1, seed=None,\n",
       "       silent=True, subsample=1))])"
      ]
     },
     "execution_count": 35,
     "metadata": {},
     "output_type": "execute_result"
    }
   ],
   "source": [
    "fitted_grid_1.best_estimator_"
   ]
  },
  {
   "cell_type": "code",
   "execution_count": 36,
   "metadata": {},
   "outputs": [
    {
     "data": {
      "text/plain": [
       "0.7089552238805971"
      ]
     },
     "execution_count": 36,
     "metadata": {},
     "output_type": "execute_result"
    }
   ],
   "source": [
    "fitted_grid_1.best_score_"
   ]
  },
  {
   "cell_type": "code",
   "execution_count": 37,
   "metadata": {},
   "outputs": [
    {
     "data": {
      "text/plain": [
       "0.7404255319148936"
      ]
     },
     "execution_count": 37,
     "metadata": {},
     "output_type": "execute_result"
    }
   ],
   "source": [
    "fitted_grid_1.score(X_test,y_test)"
   ]
  },
  {
   "cell_type": "code",
   "execution_count": 38,
   "metadata": {
    "scrolled": true
   },
   "outputs": [
    {
     "data": {
      "text/plain": [
       "Index(['Are you self-employed?',\n",
       "       'How willing would you be to share with friends and family that you have a mental illness?',\n",
       "       'Overall, how much importance does your employer place on mental health?',\n",
       "       'Have you ever sought treatment for a mental health disorder from a mental health professional?',\n",
       "       'What is your age?', 'More than 1000',\n",
       "       'If a mental health issue prompted you to request a medical leave from work, how easy or difficult would it be to ask for that leave?__Very easy',\n",
       "       'If a mental health issue prompted you to request a medical leave from work, how easy or difficult would it be to ask for that leave?__Somewhat easy',\n",
       "       'If a mental health issue prompted you to request a medical leave from work, how easy or difficult would it be to ask for that leave?__Neither easy nor difficult',\n",
       "       'Did not answer', 'Oceania'],\n",
       "      dtype='object')"
      ]
     },
     "execution_count": 38,
     "metadata": {},
     "output_type": "execute_result"
    }
   ],
   "source": [
    "# Ranking of factors that are important for predicting comfort level, from most to least important\n",
    "indices = np.flip(fitted_grid_1.best_estimator_.named_steps[\"model\"].feature_importances_.argsort())\n",
    "\n",
    "# creating a list of factors that are statistically significant\n",
    "sig_list = [3,4,5,20,21,22,33,39,46,47,51]\n",
    "\n",
    "numbers = []\n",
    "for position,idx in enumerate(indices):\n",
    "    for num in sig_list:\n",
    "        if idx == num:\n",
    "            numbers.append(idx)\n",
    "\n",
    "independent_q1_alt.columns[numbers]"
   ]
  },
  {
   "cell_type": "markdown",
   "metadata": {},
   "source": [
    "### What can companies to do encourage their employees to seek treatment?\n",
    "------"
   ]
  },
  {
   "cell_type": "code",
   "execution_count": 39,
   "metadata": {},
   "outputs": [],
   "source": [
    "# set up 2 dataframes for concatenating data\n",
    "omitted = pd.DataFrame(columns = [\"Question\",\"Answer\"])\n",
    "final = pd.DataFrame()\n",
    "\n",
    "# current_mh_coverage\n",
    "for i in [0,2,3]:\n",
    "    result = make_dummies(current_mh_coverage[i],\"Yes\")\n",
    "    final = pd.concat([final,result],axis = 1)\n",
    "\n",
    "result = make_dummies_iloc(current_mh_coverage[5],[2,-2,-1])\n",
    "final = pd.concat([final,result],axis = 1)"
   ]
  },
  {
   "cell_type": "code",
   "execution_count": 40,
   "metadata": {},
   "outputs": [],
   "source": [
    "# creating a table of independend variables for this question\n",
    "ind_variable = pd.concat([final,demographics],axis=1)"
   ]
  },
  {
   "cell_type": "code",
   "execution_count": 41,
   "metadata": {
    "scrolled": true
   },
   "outputs": [
    {
     "name": "stdout",
     "output_type": "stream",
     "text": [
      "Optimization terminated successfully.    (Exit mode 0)\n",
      "            Current function value: 0.5996292618331996\n",
      "            Iterations: 79\n",
      "            Function evaluations: 80\n",
      "            Gradient evaluations: 79\n"
     ]
    },
    {
     "data": {
      "text/html": [
       "<table class=\"simpletable\">\n",
       "<caption>Logit Regression Results</caption>\n",
       "<tr>\n",
       "  <th>Dep. Variable:</th> <td>Have you ever sought treatment for a mental health disorder from a mental health professional?</td> <th>  No. Observations:  </th>  <td>  1173</td>  \n",
       "</tr>\n",
       "<tr>\n",
       "  <th>Model:</th>                                                      <td>Logit</td>                                             <th>  Df Residuals:      </th>  <td>  1138</td>  \n",
       "</tr>\n",
       "<tr>\n",
       "  <th>Method:</th>                                                      <td>MLE</td>                                              <th>  Df Model:          </th>  <td>    34</td>  \n",
       "</tr>\n",
       "<tr>\n",
       "  <th>Date:</th>                                                 <td>Sat, 23 Mar 2019</td>                                        <th>  Pseudo R-squ.:     </th>  <td>0.1016</td>  \n",
       "</tr>\n",
       "<tr>\n",
       "  <th>Time:</th>                                                     <td>09:15:23</td>                                            <th>  Log-Likelihood:    </th> <td> -703.37</td> \n",
       "</tr>\n",
       "<tr>\n",
       "  <th>converged:</th>                                                  <td>True</td>                                              <th>  LL-Null:           </th> <td> -782.87</td> \n",
       "</tr>\n",
       "<tr>\n",
       "  <th> </th>                                                             <td> </td>                                               <th>  LLR p-value:       </th> <td>4.507e-18</td>\n",
       "</tr>\n",
       "</table>\n",
       "<table class=\"simpletable\">\n",
       "<tr>\n",
       "    <td></td>       <th>coef</th>     <th>std err</th>      <th>z</th>      <th>P>|z|</th>  <th>[0.025</th>    <th>0.975]</th>  \n",
       "</tr>\n",
       "<tr>\n",
       "  <th>const</th> <td>    0.5506</td> <td>   80.305</td> <td>    0.007</td> <td> 0.995</td> <td> -156.844</td> <td>  157.945</td>\n",
       "</tr>\n",
       "<tr>\n",
       "  <th>x1</th>    <td>    0.2608</td> <td>    0.082</td> <td>    3.193</td> <td> 0.001</td> <td>    0.101</td> <td>    0.421</td>\n",
       "</tr>\n",
       "<tr>\n",
       "  <th>x2</th>    <td>    0.0862</td> <td>    0.084</td> <td>    1.031</td> <td> 0.303</td> <td>   -0.078</td> <td>    0.250</td>\n",
       "</tr>\n",
       "<tr>\n",
       "  <th>x3</th>    <td>    0.0393</td> <td>    0.087</td> <td>    0.451</td> <td> 0.652</td> <td>   -0.131</td> <td>    0.210</td>\n",
       "</tr>\n",
       "<tr>\n",
       "  <th>x4</th>    <td>    0.0831</td> <td>    0.072</td> <td>    1.150</td> <td> 0.250</td> <td>   -0.059</td> <td>    0.225</td>\n",
       "</tr>\n",
       "<tr>\n",
       "  <th>x5</th>    <td>   -0.0320</td> <td>    0.076</td> <td>   -0.420</td> <td> 0.675</td> <td>   -0.182</td> <td>    0.118</td>\n",
       "</tr>\n",
       "<tr>\n",
       "  <th>x6</th>    <td>   -0.1337</td> <td>    0.076</td> <td>   -1.764</td> <td> 0.078</td> <td>   -0.282</td> <td>    0.015</td>\n",
       "</tr>\n",
       "<tr>\n",
       "  <th>x7</th>    <td>    0.1436</td> <td>    0.079</td> <td>    1.812</td> <td> 0.070</td> <td>   -0.012</td> <td>    0.299</td>\n",
       "</tr>\n",
       "<tr>\n",
       "  <th>x8</th>    <td>    0.3204</td> <td>    0.071</td> <td>    4.524</td> <td> 0.000</td> <td>    0.182</td> <td>    0.459</td>\n",
       "</tr>\n",
       "<tr>\n",
       "  <th>x9</th>    <td>    0.1871</td> <td>    0.077</td> <td>    2.425</td> <td> 0.015</td> <td>    0.036</td> <td>    0.338</td>\n",
       "</tr>\n",
       "<tr>\n",
       "  <th>x10</th>   <td>   -0.0411</td> <td>    0.064</td> <td>   -0.644</td> <td> 0.520</td> <td>   -0.166</td> <td>    0.084</td>\n",
       "</tr>\n",
       "<tr>\n",
       "  <th>x11</th>   <td>    1.2438</td> <td>  236.592</td> <td>    0.005</td> <td> 0.996</td> <td> -462.468</td> <td>  464.955</td>\n",
       "</tr>\n",
       "<tr>\n",
       "  <th>x12</th>   <td>   -0.0404</td> <td>    0.067</td> <td>   -0.605</td> <td> 0.545</td> <td>   -0.171</td> <td>    0.090</td>\n",
       "</tr>\n",
       "<tr>\n",
       "  <th>x13</th>   <td>   -0.2358</td> <td>    0.085</td> <td>   -2.778</td> <td> 0.005</td> <td>   -0.402</td> <td>   -0.069</td>\n",
       "</tr>\n",
       "<tr>\n",
       "  <th>x14</th>   <td>    0.4462</td> <td>  130.994</td> <td>    0.003</td> <td> 0.997</td> <td> -256.297</td> <td>  257.189</td>\n",
       "</tr>\n",
       "<tr>\n",
       "  <th>x15</th>   <td>   -0.1053</td> <td>    0.122</td> <td>   -0.861</td> <td> 0.389</td> <td>   -0.345</td> <td>    0.135</td>\n",
       "</tr>\n",
       "<tr>\n",
       "  <th>x16</th>   <td>    0.0567</td> <td>    0.071</td> <td>    0.796</td> <td> 0.426</td> <td>   -0.083</td> <td>    0.197</td>\n",
       "</tr>\n",
       "<tr>\n",
       "  <th>x17</th>   <td>   -0.0697</td> <td>    0.069</td> <td>   -1.005</td> <td> 0.315</td> <td>   -0.206</td> <td>    0.066</td>\n",
       "</tr>\n",
       "<tr>\n",
       "  <th>x18</th>   <td>    0.0502</td> <td>    0.078</td> <td>    0.646</td> <td> 0.519</td> <td>   -0.102</td> <td>    0.202</td>\n",
       "</tr>\n",
       "<tr>\n",
       "  <th>x19</th>   <td>   -0.4976</td> <td>  165.473</td> <td>   -0.003</td> <td> 0.998</td> <td> -324.819</td> <td>  323.823</td>\n",
       "</tr>\n",
       "<tr>\n",
       "  <th>x20</th>   <td>   -0.1012</td> <td>    0.062</td> <td>   -1.625</td> <td> 0.104</td> <td>   -0.223</td> <td>    0.021</td>\n",
       "</tr>\n",
       "<tr>\n",
       "  <th>x21</th>   <td>   -0.7745</td> <td>  259.312</td> <td>   -0.003</td> <td> 0.998</td> <td> -509.017</td> <td>  507.468</td>\n",
       "</tr>\n",
       "<tr>\n",
       "  <th>x22</th>   <td>   -0.2032</td> <td>    0.132</td> <td>   -1.537</td> <td> 0.124</td> <td>   -0.462</td> <td>    0.056</td>\n",
       "</tr>\n",
       "<tr>\n",
       "  <th>x23</th>   <td>    0.1341</td> <td>    0.098</td> <td>    1.365</td> <td> 0.172</td> <td>   -0.059</td> <td>    0.327</td>\n",
       "</tr>\n",
       "<tr>\n",
       "  <th>x24</th>   <td>   -0.5507</td> <td>  250.052</td> <td>   -0.002</td> <td> 0.998</td> <td> -490.643</td> <td>  489.542</td>\n",
       "</tr>\n",
       "<tr>\n",
       "  <th>x25</th>   <td>   -0.0329</td> <td>    0.059</td> <td>   -0.559</td> <td> 0.576</td> <td>   -0.148</td> <td>    0.082</td>\n",
       "</tr>\n",
       "<tr>\n",
       "  <th>x26</th>   <td>    0.4916</td> <td>  201.953</td> <td>    0.002</td> <td> 0.998</td> <td> -395.329</td> <td>  396.312</td>\n",
       "</tr>\n",
       "<tr>\n",
       "  <th>x27</th>   <td>    0.1290</td> <td>    0.080</td> <td>    1.615</td> <td> 0.106</td> <td>   -0.028</td> <td>    0.285</td>\n",
       "</tr>\n",
       "<tr>\n",
       "  <th>x28</th>   <td>   -0.7243</td> <td> 2634.064</td> <td>   -0.000</td> <td> 1.000</td> <td>-5163.395</td> <td> 5161.946</td>\n",
       "</tr>\n",
       "<tr>\n",
       "  <th>x29</th>   <td>    0.0280</td> <td>    0.067</td> <td>    0.416</td> <td> 0.678</td> <td>   -0.104</td> <td>    0.160</td>\n",
       "</tr>\n",
       "<tr>\n",
       "  <th>x30</th>   <td>    0.3814</td> <td>    0.244</td> <td>    1.562</td> <td> 0.118</td> <td>   -0.097</td> <td>    0.860</td>\n",
       "</tr>\n",
       "<tr>\n",
       "  <th>x31</th>   <td>    0.0857</td> <td>    0.127</td> <td>    0.675</td> <td> 0.500</td> <td>   -0.163</td> <td>    0.335</td>\n",
       "</tr>\n",
       "<tr>\n",
       "  <th>x32</th>   <td>    0.0940</td> <td>    0.214</td> <td>    0.439</td> <td> 0.661</td> <td>   -0.326</td> <td>    0.514</td>\n",
       "</tr>\n",
       "<tr>\n",
       "  <th>x33</th>   <td>   -0.0376</td> <td>    0.067</td> <td>   -0.559</td> <td> 0.577</td> <td>   -0.170</td> <td>    0.094</td>\n",
       "</tr>\n",
       "<tr>\n",
       "  <th>x34</th>   <td>    0.0635</td> <td>    0.075</td> <td>    0.845</td> <td> 0.398</td> <td>   -0.084</td> <td>    0.211</td>\n",
       "</tr>\n",
       "</table>"
      ],
      "text/plain": [
       "<class 'statsmodels.iolib.summary.Summary'>\n",
       "\"\"\"\n",
       "                                                                 Logit Regression Results                                                                 \n",
       "==========================================================================================================================================================\n",
       "Dep. Variable:     Have you ever sought treatment for a mental health disorder from a mental health professional?   No. Observations:                 1173\n",
       "Model:                                                                                                      Logit   Df Residuals:                     1138\n",
       "Method:                                                                                                       MLE   Df Model:                           34\n",
       "Date:                                                                                            Sat, 23 Mar 2019   Pseudo R-squ.:                  0.1016\n",
       "Time:                                                                                                    09:15:23   Log-Likelihood:                -703.37\n",
       "converged:                                                                                                   True   LL-Null:                       -782.87\n",
       "                                                                                                                    LLR p-value:                 4.507e-18\n",
       "==============================================================================\n",
       "                 coef    std err          z      P>|z|      [0.025      0.975]\n",
       "------------------------------------------------------------------------------\n",
       "const          0.5506     80.305      0.007      0.995    -156.844     157.945\n",
       "x1             0.2608      0.082      3.193      0.001       0.101       0.421\n",
       "x2             0.0862      0.084      1.031      0.303      -0.078       0.250\n",
       "x3             0.0393      0.087      0.451      0.652      -0.131       0.210\n",
       "x4             0.0831      0.072      1.150      0.250      -0.059       0.225\n",
       "x5            -0.0320      0.076     -0.420      0.675      -0.182       0.118\n",
       "x6            -0.1337      0.076     -1.764      0.078      -0.282       0.015\n",
       "x7             0.1436      0.079      1.812      0.070      -0.012       0.299\n",
       "x8             0.3204      0.071      4.524      0.000       0.182       0.459\n",
       "x9             0.1871      0.077      2.425      0.015       0.036       0.338\n",
       "x10           -0.0411      0.064     -0.644      0.520      -0.166       0.084\n",
       "x11            1.2438    236.592      0.005      0.996    -462.468     464.955\n",
       "x12           -0.0404      0.067     -0.605      0.545      -0.171       0.090\n",
       "x13           -0.2358      0.085     -2.778      0.005      -0.402      -0.069\n",
       "x14            0.4462    130.994      0.003      0.997    -256.297     257.189\n",
       "x15           -0.1053      0.122     -0.861      0.389      -0.345       0.135\n",
       "x16            0.0567      0.071      0.796      0.426      -0.083       0.197\n",
       "x17           -0.0697      0.069     -1.005      0.315      -0.206       0.066\n",
       "x18            0.0502      0.078      0.646      0.519      -0.102       0.202\n",
       "x19           -0.4976    165.473     -0.003      0.998    -324.819     323.823\n",
       "x20           -0.1012      0.062     -1.625      0.104      -0.223       0.021\n",
       "x21           -0.7745    259.312     -0.003      0.998    -509.017     507.468\n",
       "x22           -0.2032      0.132     -1.537      0.124      -0.462       0.056\n",
       "x23            0.1341      0.098      1.365      0.172      -0.059       0.327\n",
       "x24           -0.5507    250.052     -0.002      0.998    -490.643     489.542\n",
       "x25           -0.0329      0.059     -0.559      0.576      -0.148       0.082\n",
       "x26            0.4916    201.953      0.002      0.998    -395.329     396.312\n",
       "x27            0.1290      0.080      1.615      0.106      -0.028       0.285\n",
       "x28           -0.7243   2634.064     -0.000      1.000   -5163.395    5161.946\n",
       "x29            0.0280      0.067      0.416      0.678      -0.104       0.160\n",
       "x30            0.3814      0.244      1.562      0.118      -0.097       0.860\n",
       "x31            0.0857      0.127      0.675      0.500      -0.163       0.335\n",
       "x32            0.0940      0.214      0.439      0.661      -0.326       0.514\n",
       "x33           -0.0376      0.067     -0.559      0.577      -0.170       0.094\n",
       "x34            0.0635      0.075      0.845      0.398      -0.084       0.211\n",
       "==============================================================================\n",
       "\"\"\""
      ]
     },
     "execution_count": 41,
     "metadata": {},
     "output_type": "execute_result"
    }
   ],
   "source": [
    "# determining statistical significance using statsmodel Logistic Regression\n",
    "dep_question = \"Have you ever sought treatment for a mental health disorder from a mental health professional?\"\n",
    "\n",
    "X_1 = ind_variable\n",
    "Y_1 = df_2.loc[:,dep_question]\n",
    "\n",
    "scaler = preprocessing.StandardScaler()\n",
    "scaler.fit(X_1)\n",
    "X_transformed_1 = scaler.transform(X_1)\n",
    "\n",
    "X_transformed_1 = np.hstack([np.ones([X_transformed_1.shape[0],1]), X_transformed_1])\n",
    "\n",
    "logit = sm.Logit(Y_1, X_transformed_1)\n",
    "fitted_model_sp = logit.fit_regularized()\n",
    "fitted_model_sp.summary()\n",
    "\n",
    "# alpha = 0.05\n",
    "# all features together are significant\n",
    "# Columns that are significant: 0,5,6,7,8,12"
   ]
  },
  {
   "cell_type": "code",
   "execution_count": 42,
   "metadata": {},
   "outputs": [
    {
     "name": "stderr",
     "output_type": "stream",
     "text": [
      "/Users/nattiechan/anaconda3/envs/myenv/lib/python3.6/site-packages/sklearn/model_selection/_search.py:841: DeprecationWarning: The default of the `iid` parameter will change from True to False in version 0.22 and will be removed in 0.24. This will change numeric results when test-set sizes are unequal.\n",
      "  DeprecationWarning)\n"
     ]
    }
   ],
   "source": [
    "# Creating a model to get the feature importance\n",
    "ind_alt = ind_variable.copy()\n",
    "ind_alt.columns = [np.arange(len(ind_alt.columns))]\n",
    "\n",
    "X_train, X_test, y_train, y_test = train_test_split(ind_alt,df_2.loc[:,dep_question],test_size = 0.2)\n",
    "\n",
    "estimators = [(\"normalize\", preprocessing.StandardScaler()),\n",
    "             (\"model\",LogisticRegression())]\n",
    "\n",
    "pipe = pipeline.Pipeline(estimators)\n",
    "\n",
    "param_grid = [{\"model\":[XGBClassifier()], \n",
    "               \"normalize\": [preprocessing.StandardScaler(), preprocessing.MinMaxScaler(), None],\n",
    "               \"model__max_depth\":[1,2,3,4,5],\"model__n_estimators\":[50,100,150,200],\"model__n_jobs\":[6]},\n",
    "              {\"model\": [RandomForestClassifier()],\n",
    "               \"normalize\": [preprocessing.StandardScaler(), preprocessing.MinMaxScaler(), None],\n",
    "               \"model__n_estimators\":[100,150,200],\"model__n_jobs\":[6]}]\n",
    "\n",
    "grid = GridSearchCV(pipe, param_grid, cv=5)\n",
    "fitted_grid_2 = grid.fit(X_train,y_train)"
   ]
  },
  {
   "cell_type": "code",
   "execution_count": 43,
   "metadata": {},
   "outputs": [
    {
     "data": {
      "text/plain": [
       "Pipeline(memory=None,\n",
       "     steps=[('normalize', StandardScaler(copy=True, with_mean=True, with_std=True)), ('model', XGBClassifier(base_score=0.5, booster='gbtree', colsample_bylevel=1,\n",
       "       colsample_bytree=1, gamma=0, learning_rate=0.1, max_delta_step=0,\n",
       "       max_depth=1, min_child_weight=1, missing=None, n_estimators=200,\n",
       "       n_jobs=6, nthread=None, objective='binary:logistic', random_state=0,\n",
       "       reg_alpha=0, reg_lambda=1, scale_pos_weight=1, seed=None,\n",
       "       silent=True, subsample=1))])"
      ]
     },
     "execution_count": 43,
     "metadata": {},
     "output_type": "execute_result"
    }
   ],
   "source": [
    "fitted_grid_2.best_estimator_"
   ]
  },
  {
   "cell_type": "code",
   "execution_count": 44,
   "metadata": {},
   "outputs": [
    {
     "data": {
      "text/plain": [
       "0.6577825159914712"
      ]
     },
     "execution_count": 44,
     "metadata": {},
     "output_type": "execute_result"
    }
   ],
   "source": [
    "fitted_grid_2.best_score_"
   ]
  },
  {
   "cell_type": "code",
   "execution_count": 45,
   "metadata": {},
   "outputs": [
    {
     "data": {
      "text/plain": [
       "0.6723404255319149"
      ]
     },
     "execution_count": 45,
     "metadata": {},
     "output_type": "execute_result"
    }
   ],
   "source": [
    "fitted_grid_2.score(X_test,y_test)"
   ]
  },
  {
   "cell_type": "code",
   "execution_count": 46,
   "metadata": {},
   "outputs": [
    {
     "data": {
      "text/plain": [
       "Index(['Female', 'Asia',\n",
       "       'Does your employer provide mental health benefits as part of healthcare coverage?__Yes',\n",
       "       'Genderqueer',\n",
       "       'If a mental health issue prompted you to request a medical leave from work, how easy or difficult would it be to ask for that leave?__Very easy',\n",
       "       'Did not answer'],\n",
       "      dtype='object')"
      ]
     },
     "execution_count": 46,
     "metadata": {},
     "output_type": "execute_result"
    }
   ],
   "source": [
    "# Ranking of factors that are important for predicting comfort level, from most to least important\n",
    "indices = np.flip(fitted_grid_2.best_estimator_.named_steps[\"model\"].feature_importances_.argsort())\n",
    "\n",
    "# displaying features that have statistical significance\n",
    "sig_list = [0,5,6,7,8,12]\n",
    "\n",
    "numbers = []\n",
    "for position,idx in enumerate(indices):\n",
    "    for num in sig_list:\n",
    "        if idx == num:\n",
    "            numbers.append(idx)\n",
    "\n",
    "ind_variable.columns[numbers]"
   ]
  },
  {
   "cell_type": "markdown",
   "metadata": {},
   "source": [
    "------\n",
    "### Please continue to Capstone modelling stage v.3-RNN for the remainder of the project.\n",
    "------"
   ]
  },
  {
   "cell_type": "code",
   "execution_count": null,
   "metadata": {},
   "outputs": [],
   "source": []
  }
 ],
 "metadata": {
  "kernelspec": {
   "display_name": "Python 3",
   "language": "python",
   "name": "python3"
  },
  "language_info": {
   "codemirror_mode": {
    "name": "ipython",
    "version": 3
   },
   "file_extension": ".py",
   "mimetype": "text/x-python",
   "name": "python",
   "nbconvert_exporter": "python",
   "pygments_lexer": "ipython3",
   "version": "3.6.7"
  }
 },
 "nbformat": 4,
 "nbformat_minor": 2
}
