{
 "cells": [
  {
   "cell_type": "markdown",
   "metadata": {},
   "source": [
    "## Capstone Project\n",
    "-------\n",
    "\n",
    "### Stage 2 - Modelling phase\n",
    "------"
   ]
  },
  {
   "cell_type": "markdown",
   "metadata": {},
   "source": [
    "#### Importing packages and data\n",
    "------"
   ]
  },
  {
   "cell_type": "markdown",
   "metadata": {},
   "source": [
    "Possible packages that need to be installed:\n",
    "\n",
    "1. SpaCy\n",
    "\n",
    "<code> conda install -c spacy spacy </code>\n",
    "\n",
    "2. 'en_core_web_md' - library used in SpaCy\n",
    "\n",
    "<code> python -m spacy download en_core_web_md </code>\n",
    "\n",
    "3. WordCloud\n",
    "\n",
    "<code> conda install -c conda-forge wordcloud </code>\n",
    "\n",
    "4. mlxtend\n",
    "\n",
    "<code> conda install -c conda-forge mlxtend </code>\n",
    "\n",
    "5. imblearn\n",
    "\n",
    "<code> conda install -c conda-forge imbalanced-learns </code>\n",
    "\n",
    "------"
   ]
  },
  {
   "cell_type": "code",
   "execution_count": 1,
   "metadata": {},
   "outputs": [
    {
     "name": "stderr",
     "output_type": "stream",
     "text": [
      "/Users/nattiechan/anaconda3/envs/myenv/lib/python3.6/site-packages/sklearn/ensemble/weight_boosting.py:29: DeprecationWarning: numpy.core.umath_tests is an internal NumPy module and should not be imported. It will be removed in a future NumPy release.\n",
      "  from numpy.core.umath_tests import inner1d\n"
     ]
    }
   ],
   "source": [
    "# import packages\n",
    "\n",
    "# Basics\n",
    "import pandas as pd\n",
    "pd.set_option(\"display.max_columns\", None)\n",
    "import numpy as np\n",
    "from collections import Counter\n",
    "\n",
    "# Graphs\n",
    "from matplotlib import pyplot as plt\n",
    "%matplotlib inline\n",
    "\n",
    "# Filter warnings\n",
    "import warnings\n",
    "warnings.filterwarnings(\"ignore\")\n",
    "warnings.filterwarnings(\"ignore\",category=DeprecationWarning)\n",
    "\n",
    "# Preprocessing; model selection and evaluation\n",
    "from sklearn import pipeline, preprocessing\n",
    "from sklearn.model_selection import cross_val_score, train_test_split, GridSearchCV\n",
    "from sklearn.metrics import f1_score\n",
    "from imblearn.over_sampling import SMOTE\n",
    "\n",
    "# text handling\n",
    "from sklearn.feature_extraction.text import CountVectorizer\n",
    "from sklearn.feature_extraction.text import TfidfVectorizer\n",
    "\n",
    "# Models\n",
    "from sklearn.linear_model import LogisticRegression\n",
    "from sklearn.ensemble import RandomForestClassifier\n",
    "from sklearn.svm import SVC\n",
    "from xgboost import XGBClassifier\n",
    "import statsmodels.api as sm\n",
    "from mlxtend.classifier import StackingCVClassifier\n",
    "from sklearn.ensemble import GradientBoostingClassifier\n",
    "\n",
    "# for custom countvectorizer with SpaCy lemmatization\n",
    "import spacy\n",
    "from sklearn.feature_extraction.text import CountVectorizer, HashingVectorizer, VectorizerMixin\n",
    "from sklearn.base import TransformerMixin, BaseEstimator\n",
    "from scipy.sparse import csr_matrix\n",
    "\n",
    "# WordCloud\n",
    "from os import path\n",
    "from PIL import Image\n",
    "from wordcloud import WordCloud, STOPWORDS, ImageColorGenerator\n",
    "from sklearn.feature_extraction.text import ENGLISH_STOP_WORDS"
   ]
  },
  {
   "cell_type": "code",
   "execution_count": 2,
   "metadata": {},
   "outputs": [],
   "source": [
    "# import packages\n",
    "data = pd.read_csv(\"Datasets/df.csv\")\n",
    "data.drop(columns = \"Unnamed: 0\",inplace=True)\n",
    "\n",
    "df = data.copy()"
   ]
  },
  {
   "cell_type": "markdown",
   "metadata": {},
   "source": [
    "## Overview\n",
    "------\n",
    "\n",
    "Below outlines the questions to be answered with the cleaned data, and proposed methodology for each question.\n",
    "\n",
    "<b><i><u>Question #1</b></i></u>\n",
    "\n",
    "**What are some of the qualitative insights for the tech industry to improve MH support for employees?**\n",
    "\n",
    "In the survey, there is a question asking participants to briefly describe what the industry can do as a whole to improve mental health (MH) support for their employees. The purpose of the analysis is to see whether there are any *underlying themes or patterns* to the responses.\n",
    "\n",
    "<i><u>Methodology</i></u>\n",
    "\n",
    "Process the text using *SpaCy Lemmatizer* and *CountVectorizer*, then visualize the patterns using *WordCloud*. Since the font on the WordCloud is based on the frequency of the words appearing in the entire dataset, the more frequently used words will be larger in the WordCloud, suggesting a pattern or theme.\n",
    "\n",
    "<b><i><u>Question #2</b></i></u>\n",
    "\n",
    "**Can we predict one's comfort level in discussing MH at workplace using participants' qualitative responses of ways to improve MH support?**\n",
    "\n",
    "One proposed hypothesis is that improving comfort level in discussing MH at workplace can contribute to improving MH support for employees in the tech industry. A *predictive model* will be built to determine if the qualitative responses are viable predictors of one's comfort level in discussing MH at workplace.\n",
    "\n",
    "<i><u>Methodology</i></u>\n",
    "\n",
    "Design a model using a *Recurrent Neural Network (RNN)* or *Stacking Classifier*.\n",
    "\n",
    "<b><i><u>Question #3</b></i></u>\n",
    "\n",
    "**What are the factors that affect comfort level in discussing MH at workplace?**\n",
    "\n",
    "A *prescriptive analysis* will be done to determine the factors using various questions pertaining to employer's MH coverage, personal MH status and experience with having MH conversations at the workplace, and overall perceived ratings in the dataset as features.\n",
    "\n",
    "<i><u>Methodology</i></u>\n",
    "\n",
    "Determine the statistical significance of each feature and the model as a whole using *Statsmodels Logistic Regression*, then use either *Random Forrest Classifier* or *XGBoost Classifier* to determine feature importance."
   ]
  },
  {
   "cell_type": "markdown",
   "metadata": {},
   "source": [
    "### Preparing the data\n",
    "------\n",
    "\n",
    "#### Independent Variables for Q3\n",
    "------\n",
    "\n",
    "Questions will be grouped into one of the following categories:\n",
    "\n",
    "- Current employer's MH coverage\n",
    "- Previous employer's MH coverage\n",
    "- MH status\n",
    "- Witnessed experience (of discussing MH in the workplace)\n",
    "- Overall perceived ratings\n",
    "- Comfort level discussing MH in the workplace"
   ]
  },
  {
   "cell_type": "code",
   "execution_count": 3,
   "metadata": {},
   "outputs": [],
   "source": [
    "# putting questions into categories\n",
    "\n",
    "current_mh_coverage = [\"Does your employer provide mental health benefits as part of healthcare coverage?\",\n",
    "               \"Do you know the options for mental health care available under your employer-provided health coverage?\",\n",
    "               \"Has your employer ever formally discussed mental health (for example, as part of a wellness campaign or other official communication)?\",\n",
    "               \"Does your employer offer resources to learn more about mental health disorders and options for seeking help?\",\n",
    "               \"Is your anonymity protected if you choose to take advantage of mental health or substance abuse treatment resources provided by your employer?\",\n",
    "               \"If a mental health issue prompted you to request a medical leave from work, how easy or difficult would it be to ask for that leave?\"]\n",
    "\n",
    "previous_mh_coverage = [\"Have your previous employers provided mental health benefits?\",\n",
    "                        \"Were you aware of the options for mental health care provided by your previous employers?\",\n",
    "                        \"Did your previous employers ever formally discuss mental health (as part of a wellness campaign or other official communication)?\",\n",
    "                        \"Did your previous employers provide resources to learn more about mental health disorders and how to seek help?\",\n",
    "                        \"Was your anonymity protected if you chose to take advantage of mental health or substance abuse treatment resources with previous employers?\"]\n",
    "\n",
    "mh_status = [\"Do you currently have a mental health disorder?\",\n",
    "             \"Have you ever been diagnosed with a mental health disorder?\",'Anxiety Disorder', 'Mood Disorder', \n",
    "             'Psychotic Disorder','Eating Disorder', 'Neurodevelopmental Disorders','Personality Disorder', \n",
    "             'Obsessive-Compulsive Disorder','Post-Traumatic Stress Disorder', 'Dissociative Disorder',\n",
    "             'Substance-Related and Addictive Disorders', 'Other','Adjustment disorder',\n",
    "             \"Have you had a mental health disorder in the past?\",\n",
    "             \"Have you ever sought treatment for a mental health disorder from a mental health professional?\",\n",
    "             \"Do you have a family history of mental illness?\",\n",
    "             \"How willing would you be to share with friends and family that you have a mental illness?\",\n",
    "             \"Would you be willing to bring up a physical health issue with a potential employer in an interview?\"]\n",
    "\n",
    "witnessed_exp = [\"Have your observations of how another individual who discussed a mental health issue made you less likely to reveal a mental health issue yourself in your current workplace?\",\n",
    "                 \"Have you observed or experienced an unsupportive or badly handled response to a mental health issue in your current or previous workplace?\",\n",
    "                 \"Have you observed or experienced supportive or well handled response to a mental health issue in your current or previous workplace?\"]\n",
    "\n",
    "ratings = df.columns[df.columns.str.contains(\"Overall\")]\n",
    "\n",
    "demographics = [\"What is your age?\",\"What is your gender?\",\"What country do you live in?\",\n",
    "                \"What US state or territory do you live in?\",\"What is your race?\"]\n",
    "\n",
    "comfort_talking_current = [\"Would you feel comfortable discussing a mental health issue with your direct supervisor(s)?\",\n",
    "                           \"Have you ever discussed your mental health with your employer?\",\n",
    "                           \"Would you feel comfortable discussing a mental health issue with your coworkers?\",\n",
    "                           \"Have you ever discussed your mental health with coworkers?\",\n",
    "                           \"Have you ever had a coworker discuss their or another coworker's mental health with you?\",\n",
    "                           \"Would you feel more comfortable talking to your coworkers about your physical health or your mental health?\",\n",
    "                           \"Would you bring up your mental health with a potential employer in an interview?\",\n",
    "                           \"Are you openly identified at work as a person with a mental health issue?\"]\n",
    "\n",
    "comfort_talking_previous = [\"Would you have felt more comfortable talking to your previous employer about your physical health or your mental health?\",\n",
    "                            \"Would you have been willing to discuss your mental health with your direct supervisor(s)?\",\n",
    "                            \"Did you ever discuss your mental health with your previous employer?\",\n",
    "                            \"Would you have been willing to discuss your mental health with your coworkers at previous employers?\",\n",
    "                            \"Did you ever discuss your mental health with a previous coworker(s)?\",\n",
    "                            \"Did you ever have a previous coworker discuss their or another coworker's mental health with you?\",\n",
    "                            \"Would you bring up your mental health with a potential employer in an interview?\",\n",
    "                            \"Are you openly identified at work as a person with a mental health issue?\"]\n",
    "\n",
    "categories = [current_mh_coverage,previous_mh_coverage,mh_status,witnessed_exp,\n",
    "              ratings,comfort_talking_current,comfort_talking_previous]"
   ]
  },
  {
   "cell_type": "markdown",
   "metadata": {},
   "source": [
    "Various questions from current employer's MH coverage, MH status, witnessed experience as well as overall perceived ratings will be chosen as indpendent variables. Demographic data such as age, country of residence and race will be included for generaliability of the results.\n",
    "\n",
    "Dummy variables will be generated from the responses of each question. Responses will be grouped in two broad categories (eg. Difficult/Easy) and for the independent variables, one group of responses will be dropped to avoid multicollinearity."
   ]
  },
  {
   "cell_type": "code",
   "execution_count": 4,
   "metadata": {},
   "outputs": [],
   "source": [
    "# Creating functions for dummy generation\n",
    "def make_dummies(question,columns_to_keep = \"Yes\"):\n",
    "    '''\n",
    "    The function creates dummy variables for independent variables.\n",
    "    You can specify the column to KEEP.\n",
    "    \n",
    "    Inputs:\n",
    "    ------\n",
    "    question: the question/column name that you wish to create a dummy vairable for\n",
    "    columns_to_keep: a string indicating the answer you want to keep\n",
    "    \n",
    "    Returns:\n",
    "    -------\n",
    "    result: a DataFrame of the desire column in dummy variables.\n",
    "    '''\n",
    "    \n",
    "    dummies = pd.get_dummies(df_2.loc[:,question])\n",
    "    for j in range(len(dummies.columns)):\n",
    "        name = question + \"__\" + columns_to_keep\n",
    "        dummies.rename(columns = {columns_to_keep : name},inplace=True)\n",
    "\n",
    "    result = dummies.loc[:,[name]]\n",
    "    \n",
    "    return result\n",
    "\n",
    "def make_dummies_iloc(question,list_to_keep):\n",
    "    '''\n",
    "    The function creates dummy variables for independent variables.\n",
    "    This is designed for instances when you need to keep multiple responses.\n",
    "    \n",
    "    Input:\n",
    "    ------\n",
    "    question: the question/column name that you wish to create a dummy variable for\n",
    "    list_to_keep: a list of numbers corresponding the column numbers of the responses \n",
    "                  (after it has been converted to dummy variables) that you want to keep\n",
    "    \n",
    "    Returns:\n",
    "    -------\n",
    "    result: A DataFrame of the desire column in dummy variables.\n",
    "    \n",
    "    '''\n",
    "    \n",
    "    dummies = pd.get_dummies(df_2.loc[:,question])\n",
    "    for j in range(len(dummies.columns)):\n",
    "        name = question + \"__\" + dummies.columns[j]\n",
    "        dummies.rename(columns = {dummies.columns[j] : name},inplace=True)\n",
    "    \n",
    "    result = pd.DataFrame()\n",
    "    for num in list_to_keep:\n",
    "        to_keep = dummies.iloc[:,num]\n",
    "        result = pd.concat([result,to_keep],axis=1)\n",
    "    \n",
    "    return result\n",
    "\n",
    "def make_dummies_q(column_num,column_name):\n",
    "    '''\n",
    "    This function creates a dummy variable for a particular column,\n",
    "    and drops a column to avoid multicollinearity since the responses will be included in the independent variables.\n",
    "    \n",
    "    Inputs:\n",
    "    ------\n",
    "    column_num = an integer of the number of column/question you wish to create a dummy variable for\n",
    "    column_name = the response that you wish to drop to avoid multicollinearity\n",
    "    \n",
    "    Returns:\n",
    "    -------\n",
    "    result = a DataFrame of dummy variables, containing n-1 answers\n",
    "    \n",
    "    '''\n",
    "\n",
    "    result = pd.get_dummies(df_2.iloc[:,column_num])\n",
    "    result.drop(columns = column_name, inplace=True)\n",
    "    \n",
    "    return result"
   ]
  },
  {
   "cell_type": "code",
   "execution_count": 5,
   "metadata": {},
   "outputs": [],
   "source": [
    "# making a copy of the data\n",
    "df_2 = df.copy()"
   ]
  },
  {
   "cell_type": "code",
   "execution_count": 6,
   "metadata": {},
   "outputs": [],
   "source": [
    "# set up 2 dataframes for concatenating data\n",
    "omitted = pd.DataFrame(columns = [\"Question\",\"Answer\"])\n",
    "final = pd.DataFrame()"
   ]
  },
  {
   "cell_type": "code",
   "execution_count": 7,
   "metadata": {
    "scrolled": true
   },
   "outputs": [],
   "source": [
    "# current_mh_coverage\n",
    "for i in [0,2,3]:\n",
    "    result = make_dummies(current_mh_coverage[i],\"Yes\")\n",
    "    final = pd.concat([final,result],axis = 1)\n",
    "\n",
    "result = make_dummies_iloc(current_mh_coverage[5],[2,-2,-1])\n",
    "final = pd.concat([final,result],axis = 1)"
   ]
  },
  {
   "cell_type": "code",
   "execution_count": 8,
   "metadata": {
    "scrolled": true
   },
   "outputs": [],
   "source": [
    "# witnessed_exp\n",
    "result = make_dummies(witnessed_exp[0],\"Yes\")\n",
    "final = pd.concat([final,result],axis = 1)"
   ]
  },
  {
   "cell_type": "code",
   "execution_count": 9,
   "metadata": {},
   "outputs": [],
   "source": [
    "# mh_status\n",
    "\n",
    "# Modifying some responses for ease of sorting\n",
    "old_answer_1 = \"Possibly\"\n",
    "old_answer_2 = \"-1\"\n",
    "answer = \"Don't Know\"\n",
    "\n",
    "to_dummy = []\n",
    "for i in [0,1,-5,-3,-1]:\n",
    "    to_dummy.append(mh_status[i])\n",
    "\n",
    "for num in [0,2]:\n",
    "    df_2.loc[:,to_dummy[num]][df_2.loc[:,to_dummy[num]]==old_answer_1]=answer\n",
    "\n",
    "df_2.loc[:,to_dummy[2]][df_2.loc[:,to_dummy[2]]==old_answer_2]=answer\n",
    "\n",
    "#creating dummy variables\n",
    "result = make_dummies(to_dummy[0],\"Yes\")\n",
    "final = pd.concat([final,result],axis = 1)\n",
    "\n",
    "for i in [2,3,4,5,6,7,8,9,10,11,12,13,15,17]:\n",
    "    final = pd.concat([final,df_2.loc[:,mh_status[i]]],axis = 1)"
   ]
  },
  {
   "cell_type": "code",
   "execution_count": 10,
   "metadata": {},
   "outputs": [],
   "source": [
    "# ratings\n",
    "for i in [1,4]:\n",
    "    final = pd.concat([final,df_2.loc[:,ratings[i]]],axis = 1)"
   ]
  },
  {
   "cell_type": "code",
   "execution_count": 11,
   "metadata": {
    "scrolled": true
   },
   "outputs": [],
   "source": [
    "# What is your gender?\n",
    "gender = make_dummies_q(-7,\"Male\")"
   ]
  },
  {
   "cell_type": "code",
   "execution_count": 12,
   "metadata": {},
   "outputs": [],
   "source": [
    "# Grouping countries into 5 continents\n",
    "country_names = df_2.iloc[:,-6].groupby(df_2.iloc[:,-6]).count().index\n",
    "\n",
    "df_2[\"countries_continent\"] = df_2.iloc[:,-6]\n",
    "\n",
    "north_am = [8,34,55]\n",
    "south_am = [0,6,9,56]\n",
    "asia = [3,20,23,24,26,28,29,39,43,44,46]\n",
    "africa = [14,30,33,37,48]\n",
    "europe = [2,4,5,7,10,11,13,15,16,17,18,19,21,22,25,27,31,32,35,38,40,41,42,45,47,49,50,51,52,53,54]\n",
    "oceania = [1,36]\n",
    "did_not_answer = [12]\n",
    "\n",
    "continents = [north_am,south_am,asia,africa,europe,oceania,did_not_answer]\n",
    "names = [\"North America\", \"South America\", \"Asia\", \"Africa\", \"Europe\", \"Oceania\", \"Did not answer\"]\n",
    "\n",
    "for position,continent in enumerate(continents):\n",
    "    for num in np.flip(continent):\n",
    "        df_2.loc[:,\"countries_continent\"][df_2.loc[:,\"countries_continent\"]== country_names[num]]=names[position]\n",
    "        \n",
    "countries = make_dummies_q(-1,\"North America\")"
   ]
  },
  {
   "cell_type": "code",
   "execution_count": 13,
   "metadata": {},
   "outputs": [],
   "source": [
    "# What is your race?\n",
    "races = make_dummies_q(-5,\"Did not answer\")\n",
    "for num in range(-4,0):\n",
    "    races.drop(columns = [races.columns[num]],inplace=True)"
   ]
  },
  {
   "cell_type": "code",
   "execution_count": 14,
   "metadata": {},
   "outputs": [],
   "source": [
    "# company_size\n",
    "company_size = make_dummies_q(2,\"0\")\n",
    "\n",
    "# select companies with larger size into the independent variables\n",
    "size = company_size.iloc[:,[3,5]]"
   ]
  },
  {
   "cell_type": "code",
   "execution_count": 15,
   "metadata": {},
   "outputs": [],
   "source": [
    "# Creating a table of demographics\n",
    "demographics = pd.concat([gender,countries,races,size,df_2.iloc[:,[-9,1,3,4]]],axis=1)"
   ]
  },
  {
   "cell_type": "code",
   "execution_count": 16,
   "metadata": {},
   "outputs": [],
   "source": [
    "# Finalizing the table of independent variables with demographics\n",
    "independent_q1 = pd.concat([final,demographics],axis=1)"
   ]
  },
  {
   "cell_type": "markdown",
   "metadata": {},
   "source": [
    "#### Dependent Variables for Q3\n",
    "------\n",
    "\n",
    "2 questions from the category comfort level of discussing MH in the workplace will be chosen as the dependent variables separately. Answers from each question will be grouped in two broad categories (i.e Hesitant/Comfortable) before deploying into the model."
   ]
  },
  {
   "cell_type": "code",
   "execution_count": 17,
   "metadata": {},
   "outputs": [],
   "source": [
    "# Exploring comfort level with coworkers\n",
    "question = \"Would you feel comfortable discussing a mental health issue with your coworkers?\"\n",
    "\n",
    "answers = [\"Maybe\",\"No\",\"Not Applicable\",\"Yes\"]\n",
    "\n",
    "dep_3a = df_2[question].copy()\n",
    "\n",
    "for num in range(len(answers)):\n",
    "    if num != 3:\n",
    "        dep_3a[dep_3a==answers[num]] = 0 #Hesitant\n",
    "    else:\n",
    "        dep_3a[dep_3a==answers[num]] = 1 #Comfortable"
   ]
  },
  {
   "cell_type": "code",
   "execution_count": 18,
   "metadata": {},
   "outputs": [],
   "source": [
    "# Exploring comfort level with direct supervisors\n",
    "question = \"Would you feel comfortable discussing a mental health issue with your direct supervisor(s)?\"\n",
    "\n",
    "answers = [\"Maybe\",\"No\",\"Not Applicable\",\"Yes\"]\n",
    "\n",
    "dep_3b = df_2[question].copy()\n",
    "\n",
    "for num in range(len(answers)):\n",
    "    if num != 3:\n",
    "        dep_3b[dep_3b==answers[num]] = 0 #Hesitant\n",
    "    else:\n",
    "        dep_3b[dep_3b==answers[num]] = 1 #Comfortable"
   ]
  },
  {
   "cell_type": "markdown",
   "metadata": {},
   "source": [
    "## Question 1\n",
    "\n",
    "### What are some of the qualitative insights for the tech industry to improve mental health support for employees?\n",
    "-----\n",
    "\n",
    "Qualitative responses from the question \"briefly describe what you think the industry as a whole and/or employers could do to improve mental health support for employees\" will be processed using [spacy-vectorizers](https://github.com/mpavlovic/spacy-vectorizers), a custom CountVectorizer with SpaCy lemmatization embedded."
   ]
  },
  {
   "cell_type": "code",
   "execution_count": 19,
   "metadata": {},
   "outputs": [],
   "source": [
    "# Importing classes from spacy-vectorizers to process texts\n",
    "# Code source: https://github.com/mpavlovic/spacy-vectorizers\n",
    "\n",
    "class SpacyPipeInitializer(object):\n",
    "    def __init__(self, nlp, join_str=\" \", batch_size=10000, n_threads=2):\n",
    "        self.nlp = nlp\n",
    "        self.join_str = join_str\n",
    "        self.batch_size = batch_size\n",
    "        self.n_threads = n_threads\n",
    "        \n",
    "class SpacyPipeProcessor(SpacyPipeInitializer):\n",
    "    def __init__(self, nlp, multi_iters=False, join_str=\" \", batch_size=10000, n_threads=2):\n",
    "        super(SpacyPipeProcessor, self).__init__(nlp, join_str, batch_size, n_threads)\n",
    "        self.multi_iters = multi_iters\n",
    "    \n",
    "    def __call__(self, raw_documents):\n",
    "        docs_generator = self.nlp.pipe(raw_documents, batch_size=self.batch_size, n_threads=self.n_threads)\n",
    "        return docs_generator if self.multi_iters == False else list(docs_generator)\n",
    "    \n",
    "class SpacyLemmaCountVectorizer(CountVectorizer):\n",
    "    def __init__(self, input='content', encoding='utf-8',\n",
    "                 decode_error='strict', strip_accents=None,\n",
    "                 lowercase=True, preprocessor=None, tokenizer=None,\n",
    "                 stop_words=None, token_pattern=r\"(?u)[^\\r\\n ]+\",\n",
    "                 ngram_range=(1, 1), analyzer='word',\n",
    "                 max_df=1.0, min_df=1, max_features=None,\n",
    "                 vocabulary=None, binary=False, dtype=np.int64, \n",
    "                 nlp=None, ignore_chars='!\"#$%&\\'()*+,./:;<=>?@[\\\\]^_`{|}~', \n",
    "                 join_str=\" \", use_pron=False):\n",
    "        \n",
    "        super().__init__(input, encoding, decode_error, strip_accents, \n",
    "                                                   lowercase, preprocessor, tokenizer,\n",
    "                                                   stop_words, token_pattern, ngram_range, \n",
    "                                                   analyzer, max_df, min_df, max_features,\n",
    "                                                   vocabulary, binary, dtype)\n",
    "        self.ignore_chars = ignore_chars\n",
    "        self.join_str = ' ' # lemmas have to be joined for splitting\n",
    "        self.use_pron = use_pron\n",
    "        self.translate_table = dict((ord(char), None) for char in self.ignore_chars)\n",
    "        \n",
    "    def lemmatize_from_docs(self, docs):\n",
    "        for doc in docs:\n",
    "            lemmas_gen = (token.lemma_.translate(self.translate_table) if self.use_pron or token.lemma_!='-PRON-' else token.lower_.translate(self.translate_table) for token in doc)  # generator expression\n",
    "            yield self.join_str.join(lemmas_gen) if self.join_str is not None else [lemma for lemma in lemmas_gen]\n",
    "    \n",
    "    def build_tokenizer(self):\n",
    "        return lambda doc: doc.split()\n",
    "    \n",
    "    def transform(self, spacy_docs):\n",
    "        raw_documents = self.lemmatize_from_docs(spacy_docs)\n",
    "        return super(SpacyLemmaCountVectorizer, self).transform(raw_documents)\n",
    "    \n",
    "    def fit_transform(self, spacy_docs, y=None):\n",
    "        raw_documents = self.lemmatize_from_docs(spacy_docs)\n",
    "        return super(SpacyLemmaCountVectorizer, self).fit_transform(raw_documents, y)"
   ]
  },
  {
   "cell_type": "code",
   "execution_count": 20,
   "metadata": {
    "scrolled": true
   },
   "outputs": [],
   "source": [
    "# Grabbing the text responses\n",
    "corpus = df.iloc[:,-9]\n",
    "\n",
    "# customization stopwords to filter out some words\n",
    "stopwords = set(STOPWORDS)\n",
    "stopwords.update([\"mental\",\"health\",\"issue\",\"work\",\n",
    "                  \"take\",\"hour\",\"tech\",\"industry\",\"people\",\"employee\"])"
   ]
  },
  {
   "cell_type": "code",
   "execution_count": 21,
   "metadata": {},
   "outputs": [
    {
     "data": {
      "text/plain": [
       "<1173x756 sparse matrix of type '<class 'numpy.int64'>'\n",
       "\twith 7651 stored elements in Compressed Sparse Row format>"
      ]
     },
     "execution_count": 21,
     "metadata": {},
     "output_type": "execute_result"
    }
   ],
   "source": [
    "# CountVectorizer with SpaCy Lemmatization\n",
    "nlp = spacy.load('en_core_web_md')\n",
    "\n",
    "spp = SpacyPipeProcessor(nlp, n_threads=1, multi_iters=True)\n",
    "spacy_docs = spp(corpus);\n",
    "\n",
    "slcv = SpacyLemmaCountVectorizer(min_df=3,stop_words=stopwords, ngram_range=(1, 3), ignore_chars='!\"#$%&\\'()*+,-./:;<=>?@[\\\\]^_`{|}~')\n",
    "slcv.fit(spacy_docs)\n",
    "count_vectors = slcv.transform(spacy_docs); count_vectors"
   ]
  },
  {
   "cell_type": "markdown",
   "metadata": {},
   "source": [
    "Once the text has been processed, a WordCloud is generated to visualize the result."
   ]
  },
  {
   "cell_type": "code",
   "execution_count": 22,
   "metadata": {
    "scrolled": false
   },
   "outputs": [
    {
     "data": {
      "image/png": "[encoded data removed]",
      "text/plain": [
       "<Figure size 432x288 with 1 Axes>"
      ]
     },
     "metadata": {
      "needs_background": "light"
     },
     "output_type": "display_data"
    }
   ],
   "source": [
    "# Pulling out the list of parsed words and put them into a wordcloud\n",
    "list_of_words = slcv.vocabulary_.keys()\n",
    "list_of_words = list(list_of_words)\n",
    "list_of_words.sort()\n",
    "\n",
    "wordcloud = WordCloud(background_color=\"white\").generate(\" \".join(list_of_words))\n",
    "\n",
    "plt.imshow(wordcloud, interpolation=\"bilinear\")\n",
    "plt.axis(\"off\")\n",
    "plt.show();"
   ]
  },
  {
   "cell_type": "markdown",
   "metadata": {},
   "source": [
    "Words with bigger fonts in the WordCloud are ones that occur in the dataset with higher frequency. From the WordCloud above, it seems like words like \"open\", \"support\", \"talk\" are big themes of the responses. This finding supports the need of looking deeper into factors that affect comfort level in discussing MH in the workplace."
   ]
  },
  {
   "cell_type": "markdown",
   "metadata": {},
   "source": [
    "## Question 2\n",
    "\n",
    "### Can we predict one's comfort level in discussing mental health at workplace using participants' qualitative responses of ways to improve mental health support?\n",
    "------\n",
    "\n",
    "From the WordCloud above, it seems like there is a a need from survey participants to have open conversations regarding mental health. One may wonder - what are the factors that affect comfort level in discussing mental health (MH) at workplace? \n",
    "\n",
    "Qualitative responses from the survey question \"Briefly describe what you think the tech industry as a whole and/or employers could do to improve mental health support for employees.\" are analyzed to determine if they are good predictors of one's comfort level in discussing MH issue with coworkers."
   ]
  },
  {
   "cell_type": "code",
   "execution_count": 23,
   "metadata": {},
   "outputs": [],
   "source": [
    "# Grabbing the responses as independent variables\n",
    "corpus = df.iloc[:,-9]\n",
    "\n",
    "# Dependent variables\n",
    "question = \"Would you feel comfortable discussing a mental health issue with your coworkers?\"\n",
    "\n",
    "answers = [\"Maybe\",\"No\",\"Not Applicable\",\"Yes\"]\n",
    "\n",
    "dep = df[question].copy()\n",
    "\n",
    "for num in range(len(answers)):\n",
    "    if num != 3:\n",
    "        dep[dep==answers[num]] = 0 #Hesitant\n",
    "    else:\n",
    "        dep[dep==answers[num]] = 1 #Comfortable"
   ]
  },
  {
   "cell_type": "code",
   "execution_count": 24,
   "metadata": {},
   "outputs": [],
   "source": [
    "# Creating a table with both independent and dependent variables\n",
    "table = pd.concat([corpus,dep],axis=1)\n",
    "\n",
    "# dropping columns that did not answer the question\n",
    "index = table[table.iloc[:,0]==\"Did not answer\"].index\n",
    "table.drop(index,axis=0,inplace=True)\n",
    "\n",
    "# resetting the index\n",
    "table = table.reset_index()\n",
    "table.drop(\"index\",axis=1,inplace=True)"
   ]
  },
  {
   "cell_type": "markdown",
   "metadata": {},
   "source": [
    "The responses will first split into training and test sets. The training set will be used to train and optimize the model, while the test set will check the accuracy of the model with unseen data. "
   ]
  },
  {
   "cell_type": "code",
   "execution_count": 25,
   "metadata": {},
   "outputs": [],
   "source": [
    "# split the dataset into training/test sets\n",
    "x_train, x_test, y_train, y_test = train_test_split(table.iloc[:,0].values,table.iloc[:,1].values,\n",
    "                                                    test_size = 0.2, stratify=table.iloc[:,1].values)"
   ]
  },
  {
   "cell_type": "markdown",
   "metadata": {},
   "source": [
    "Text processing will be performed on the training set to prepare and transform the data into a format that is readable by the model. The responses will first put through Lemmatization using SpaCy, grouping different words with the same meaning (eg. \"car\" and \"cars\") to a common base form. Then, the responses are put through Tf-idf Vectorizer to transform the words into a matrix to be analyzed by the model.\n",
    "\n",
    "The reason for choosing Tf-idf over CountVectorizer is because Tf-idf is suitable for highlighting subtle differences between responses (eg. \"The sky is blue\" vs. \"The sky is *not* blue\") to help the model better classify the classes. "
   ]
  },
  {
   "cell_type": "code",
   "execution_count": 26,
   "metadata": {},
   "outputs": [
    {
     "data": {
      "text/plain": [
       "<631x925 sparse matrix of type '<class 'numpy.float64'>'\n",
       "\twith 9328 stored elements in Compressed Sparse Row format>"
      ]
     },
     "execution_count": 26,
     "metadata": {},
     "output_type": "execute_result"
    }
   ],
   "source": [
    "# Process and transform x_train\n",
    "\n",
    "nlp = spacy.load('en_core_web_md')\n",
    "\n",
    "# customizing stopwords to exclude certain stopwords\n",
    "stopwords = set(STOPWORDS)\n",
    "\n",
    "words = [\"against\",\"all\",\"aren't\",\"can't\",\"can\",\"cannot\",\"could\",\"couldn't\",\"did\",\n",
    "         \"didn't\",\"doing\",\"don't\",\"hasn't\",\"hadn't\",\"ever\",\"few\",\"mustn't\",\"once\",\"shan't\"]\n",
    "\n",
    "for word in words:\n",
    "    stopwords.remove(word)\n",
    "\n",
    "# Lemmatization using SpaCy\n",
    "sentences = []\n",
    "\n",
    "for num in range(len(x_train)):\n",
    "    doc = nlp(x_train[num])\n",
    "\n",
    "    sentence = []\n",
    "    for token in doc:\n",
    "        sentence.append(token.lemma_)\n",
    "\n",
    "    sentences.append(\" \".join(sentence))\n",
    "\n",
    "# Processing text with TfidfVectorizer\n",
    "tf_model = TfidfVectorizer(stop_words=stopwords,ngram_range=(1,3), min_df=3)\n",
    "tf_vectors = tf_model.fit_transform(sentences); tf_vectors"
   ]
  },
  {
   "cell_type": "markdown",
   "metadata": {},
   "source": [
    "Since there is a class imbalance in the dependent variable as demonstrated in the prescriptive analysis, SMOTE from imbalanced learn will be used to oversample the minority class to create a balanced sample for the training set."
   ]
  },
  {
   "cell_type": "code",
   "execution_count": 27,
   "metadata": {},
   "outputs": [
    {
     "name": "stderr",
     "output_type": "stream",
     "text": [
      "/Users/nattiechan/anaconda3/envs/myenv/lib/python3.6/site-packages/imblearn/utils/_validation.py:93: UserWarning: 'y' should be of types ('binary', 'multiclass', 'multilabel-indicator') only. Got unknown instead.\n",
      "  TARGET_KIND, type_of_target(y)))\n"
     ]
    }
   ],
   "source": [
    "# Using SMOTE to oversample the minority class to create a balanced training set\n",
    "smote = SMOTE(n_jobs = 6)\n",
    "X_res,y_res = smote.fit_resample(tf_vectors.toarray(),y_train)"
   ]
  },
  {
   "cell_type": "code",
   "execution_count": 28,
   "metadata": {},
   "outputs": [
    {
     "name": "stdout",
     "output_type": "stream",
     "text": [
      "Before oversampling:\n",
      "Counter({0: 453, 1: 178})\n",
      "After oversampling:\n",
      "Counter({0: 453, 1: 453})\n"
     ]
    }
   ],
   "source": [
    "print(\"Before oversampling:\")\n",
    "print(Counter(y_train.astype(int)))\n",
    "\n",
    "print(\"After oversampling:\")\n",
    "print(Counter(y_res))"
   ]
  },
  {
   "cell_type": "markdown",
   "metadata": {},
   "source": [
    "The responses in the testing set will be transformed as well."
   ]
  },
  {
   "cell_type": "code",
   "execution_count": 29,
   "metadata": {},
   "outputs": [
    {
     "data": {
      "text/plain": [
       "<158x925 sparse matrix of type '<class 'numpy.float64'>'\n",
       "\twith 2048 stored elements in Compressed Sparse Row format>"
      ]
     },
     "execution_count": 29,
     "metadata": {},
     "output_type": "execute_result"
    }
   ],
   "source": [
    "# Process and transform x_test\n",
    "sentences = []\n",
    "\n",
    "for num in range(len(x_test)):\n",
    "    doc = nlp(x_test[num])\n",
    "\n",
    "    sentence = []\n",
    "    for token in doc:\n",
    "        sentence.append(token.lemma_)\n",
    "\n",
    "    sentences.append(\" \".join(sentence))\n",
    "\n",
    "x_test_vectors = tf_model.transform(sentences); x_test_vectors"
   ]
  },
  {
   "cell_type": "markdown",
   "metadata": {},
   "source": [
    "The responses is fed into a model once they are processed. A Stacking CV Classifier will be used with SVC and Logistic Regression as the first layer and Gradient Boosting Classifier as the metaclassifer. The idea is to utilize the strengths of the different models to address the weaknesses of the other models in order to increase the predictive power of the model. \n",
    "\n",
    "Those three particular models are chosen because they tend to perform better in situations when there is a class imbalance and generate a better F1 score. A Stacking CV Classifier is chosen over Stacking Classifier to avoid leakage of training data in the 1st layer into the meta-classifier."
   ]
  },
  {
   "cell_type": "code",
   "execution_count": 30,
   "metadata": {},
   "outputs": [
    {
     "data": {
      "text/plain": [
       "GridSearchCV(cv=3, error_score='raise',\n",
       "       estimator=StackingCVClassifier(classifiers=[SVC(C=1.0, cache_size=200, class_weight=None, coef0=0.0,\n",
       "  decision_function_shape='ovr', degree=3, gamma='auto', kernel='rbf',\n",
       "  max_iter=-1, probability=False, random_state=None, shrinking=True,\n",
       "  tol=0.001, verbose=False), LogisticRegression(C=1.0, clas...           use_clones=True, use_features_in_secondary=False,\n",
       "           use_probas=False, verbose=0),\n",
       "       fit_params=None, iid=True, n_jobs=1,\n",
       "       param_grid={'svc__C': [1], 'svc__kernel': ['rbf'], 'svc__class_weight': [{0: 1, 1: 2}], 'logisticregression__penalty': ['l1'], 'logisticregression__class_weight': [{0: 1, 1: 2}], 'meta-gradientboostingclassifier__n_estimators': [50, 100], 'meta-gradientboostingclassifier__max_depth': [3]},\n",
       "       pre_dispatch='2*n_jobs', refit=True, return_train_score='warn',\n",
       "       scoring=None, verbose=0)"
      ]
     },
     "execution_count": 30,
     "metadata": {},
     "output_type": "execute_result"
    }
   ],
   "source": [
    "# Building the model using Stacking CV Classifier\n",
    "base_models = [SVC(), LogisticRegression()]\n",
    "\n",
    "base_models = [(f'{model.__class__.__name__}-{i}', model) for i, model in enumerate(base_models)]\n",
    "\n",
    "stacked_model = StackingCVClassifier(classifiers=[model for _, model in base_models],\n",
    "                                     meta_classifier=GradientBoostingClassifier(), \n",
    "                                     use_features_in_secondary=False)\n",
    "\n",
    "params = {'svc__C': [1], 'svc__kernel': ['rbf'], \"svc__class_weight\":[{0: 1, 1: 2}],\n",
    "          'logisticregression__penalty' : ['l1'], \"logisticregression__class_weight\":[{0: 1, 1: 2}],\n",
    "          'meta-gradientboostingclassifier__n_estimators' : [50,100],\n",
    "          'meta-gradientboostingclassifier__max_depth': [3]}\n",
    "\n",
    "grid = GridSearchCV(estimator=stacked_model, param_grid=params, cv=3,refit=True)\n",
    "grid.fit(X_res, y_res.astype(int))"
   ]
  },
  {
   "cell_type": "code",
   "execution_count": 31,
   "metadata": {},
   "outputs": [
    {
     "name": "stdout",
     "output_type": "stream",
     "text": [
      "Accuracy score: 55.63 %\n"
     ]
    }
   ],
   "source": [
    "print(\"Accuracy score:\",round(grid.best_score_*100,2),\"%\")"
   ]
  },
  {
   "cell_type": "code",
   "execution_count": 32,
   "metadata": {
    "scrolled": true
   },
   "outputs": [
    {
     "name": "stdout",
     "output_type": "stream",
     "text": [
      "F1 score of the model: 40.25 %\n"
     ]
    }
   ],
   "source": [
    "y_pred = grid.predict(x_test_vectors.toarray())\n",
    "\n",
    "print(\"F1 score of the model:\",round(f1_score(y_test.astype(int),y_pred)*100,2),\"%\")"
   ]
  },
  {
   "cell_type": "markdown",
   "metadata": {},
   "source": [
    "There are limitations as to optimizing the F1 score, which could possibly be due to the quality and the quantity of the responses considered. A larger dataset should be considered to fine tune and improve the model.\n",
    "\n",
    "Recurrent neural network (RNN) with text embedding was considered. There are, however, strange behaviours occurred during the training and testing phases of the model. \n",
    "\n",
    "- During training, the accuracy score decreases as the epochs increase, which in normal situations should be the opposite. \n",
    "- When SMOTE was used as an attempt to create a balanced data set, the validation scores of the model was 0%\n",
    "- Although a version of the model was created successfully with an F1 score at around 40%, the model ended up memorizing the training dataset and produced the same probabilities for each class regardless of the structure and words used in the unseen responses.\n",
    "\n",
    "Despite RNN being known as one of the best methods for text analysis, the behaviours above indicated that the model may be too complex for the dataset. Therefore, a Stacking CV Classifier is chosen over RNN.\n",
    "\n",
    "A function was written to provide an interactive component to the predictive model. If you wish to try out the model yourself, you can take away the hash (#) two cells down to call upon the function."
   ]
  },
  {
   "cell_type": "code",
   "execution_count": 33,
   "metadata": {},
   "outputs": [],
   "source": [
    "# input an response and see if the model predicts correctly\n",
    "\n",
    "question = \"Briefly describe what you think the tech industry as a whole and/or employers could do to improve mental health support for employees.\"\n",
    "\n",
    "def interaction(response):\n",
    "    print(\"Processing...\")\n",
    "\n",
    "    # Text processing to prepare data for RNN\n",
    "    nlp = spacy.load('en_core_web_md')\n",
    "\n",
    "    sentences = []\n",
    "    doc = nlp(response)\n",
    "\n",
    "    sentence = []\n",
    "    for token in doc:\n",
    "        sentence.append(token.lemma_)\n",
    "\n",
    "    sentences.append(\" \".join(sentence))\n",
    "    \n",
    "    print(\"Almost there...\")\n",
    "\n",
    "    # Processing text with TfidfVectorizer\n",
    "    tf_vectors = tf_model.transform(sentences)\n",
    "\n",
    "    # predicting the result using the model\n",
    "    y_pred = grid.predict(tf_vectors.toarray())\n",
    "\n",
    "    # printing the result\n",
    "    if y_pred == 0 :\n",
    "        print(\"The model predicts you are hesitant with discussing MH issue with your coworkers.\")\n",
    "    else:\n",
    "        print(\"The model predicts you to have comfortable with discussing MH issue with your coworkers.\")"
   ]
  },
  {
   "cell_type": "code",
   "execution_count": 34,
   "metadata": {},
   "outputs": [],
   "source": [
    "# Testing out the model if you wish\n",
    "# Just take away the hash(#) in the 2 lines of code below to call upon the function.\n",
    "\n",
    "# response = input(question)\n",
    "\n",
    "# interaction(response)"
   ]
  },
  {
   "cell_type": "markdown",
   "metadata": {},
   "source": [
    "## Question #3\n",
    "\n",
    "### What are the factors that affect comfort level in discussing mental health at workplace?\n",
    "------\n",
    "\n",
    "A prescriptive analysis will be performed using various questions from the survey to generate actionable recommendations.\n",
    "\n",
    "First, a Logistic Regression is used to determine which factors are significant statistically. Then, a second model will be constructed to determine the order of feature importance. Recommendations will be created based on the following:\n",
    "\n",
    "- Statistical significance (i.e p-value, confidence interval)\n",
    "- Feature strength (i.e odds ratio)\n",
    "- Feature importance based on the second model\n",
    "\n",
    "#### a) Comfort discussing with coworkers\n",
    "\n",
    "<u>Null Hypothesis:</u> The features, both individually and together collectively, *have no effect* on one's comfort in discussing mental health (MH) with coworkers.\n",
    "\n",
    "<u>Alternative Hypothesis:</u> The features, both individually and together collectively, *have an effect* on one's comfort in discussing MH with cororkers.\n",
    "\n",
    "The alpha will be set at 0.05 and the confidence interval is set at 95%, which means the null hypothesis can be rejected if the p-value less than 0.05 and the confidence interval does not cross zero."
   ]
  },
  {
   "cell_type": "code",
   "execution_count": 35,
   "metadata": {
    "scrolled": true
   },
   "outputs": [
    {
     "name": "stdout",
     "output_type": "stream",
     "text": [
      "Optimization terminated successfully.    (Exit mode 0)\n",
      "            Current function value: 0.42130938710965604\n",
      "            Iterations: 104\n",
      "            Function evaluations: 105\n",
      "            Gradient evaluations: 104\n"
     ]
    },
    {
     "data": {
      "text/html": [
       "<table class=\"simpletable\">\n",
       "<caption>Logit Regression Results</caption>\n",
       "<tr>\n",
       "  <th>Dep. Variable:</th>         <td>y</td>        <th>  No. Observations:  </th>  <td>  1173</td>  \n",
       "</tr>\n",
       "<tr>\n",
       "  <th>Model:</th>               <td>Logit</td>      <th>  Df Residuals:      </th>  <td>  1124</td>  \n",
       "</tr>\n",
       "<tr>\n",
       "  <th>Method:</th>               <td>MLE</td>       <th>  Df Model:          </th>  <td>    48</td>  \n",
       "</tr>\n",
       "<tr>\n",
       "  <th>Date:</th>          <td>Fri, 29 Mar 2019</td> <th>  Pseudo R-squ.:     </th>  <td>0.2790</td>  \n",
       "</tr>\n",
       "<tr>\n",
       "  <th>Time:</th>              <td>08:29:24</td>     <th>  Log-Likelihood:    </th> <td> -494.20</td> \n",
       "</tr>\n",
       "<tr>\n",
       "  <th>converged:</th>           <td>True</td>       <th>  LL-Null:           </th> <td> -685.44</td> \n",
       "</tr>\n",
       "<tr>\n",
       "  <th> </th>                      <td> </td>        <th>  LLR p-value:       </th> <td>1.154e-53</td>\n",
       "</tr>\n",
       "</table>\n",
       "<table class=\"simpletable\">\n",
       "<tr>\n",
       "    <td></td>       <th>coef</th>     <th>std err</th>      <th>z</th>      <th>P>|z|</th>  <th>[0.025</th>    <th>0.975]</th>  \n",
       "</tr>\n",
       "<tr>\n",
       "  <th>const</th> <td>   -3.8876</td> <td> 4080.380</td> <td>   -0.001</td> <td> 0.999</td> <td>-8001.286</td> <td> 7993.510</td>\n",
       "</tr>\n",
       "<tr>\n",
       "  <th>x1</th>    <td>    0.1786</td> <td>    0.100</td> <td>    1.793</td> <td> 0.073</td> <td>   -0.017</td> <td>    0.374</td>\n",
       "</tr>\n",
       "<tr>\n",
       "  <th>x2</th>    <td>    0.2870</td> <td>    0.093</td> <td>    3.095</td> <td> 0.002</td> <td>    0.105</td> <td>    0.469</td>\n",
       "</tr>\n",
       "<tr>\n",
       "  <th>x3</th>    <td>   -0.1175</td> <td>    0.098</td> <td>   -1.198</td> <td> 0.231</td> <td>   -0.310</td> <td>    0.075</td>\n",
       "</tr>\n",
       "<tr>\n",
       "  <th>x4</th>    <td>    0.1880</td> <td>    0.084</td> <td>    2.240</td> <td> 0.025</td> <td>    0.023</td> <td>    0.353</td>\n",
       "</tr>\n",
       "<tr>\n",
       "  <th>x5</th>    <td>    0.2833</td> <td>    0.091</td> <td>    3.101</td> <td> 0.002</td> <td>    0.104</td> <td>    0.462</td>\n",
       "</tr>\n",
       "<tr>\n",
       "  <th>x6</th>    <td>    0.5327</td> <td>    0.090</td> <td>    5.951</td> <td> 0.000</td> <td>    0.357</td> <td>    0.708</td>\n",
       "</tr>\n",
       "<tr>\n",
       "  <th>x7</th>    <td>   -0.1864</td> <td>    0.093</td> <td>   -1.998</td> <td> 0.046</td> <td>   -0.369</td> <td>   -0.004</td>\n",
       "</tr>\n",
       "<tr>\n",
       "  <th>x8</th>    <td>    0.0125</td> <td>    0.116</td> <td>    0.108</td> <td> 0.914</td> <td>   -0.214</td> <td>    0.239</td>\n",
       "</tr>\n",
       "<tr>\n",
       "  <th>x9</th>    <td>    0.0592</td> <td>    0.096</td> <td>    0.617</td> <td> 0.537</td> <td>   -0.129</td> <td>    0.247</td>\n",
       "</tr>\n",
       "<tr>\n",
       "  <th>x10</th>   <td>   -0.1871</td> <td>    0.101</td> <td>   -1.854</td> <td> 0.064</td> <td>   -0.385</td> <td>    0.011</td>\n",
       "</tr>\n",
       "<tr>\n",
       "  <th>x11</th>   <td>   -0.0229</td> <td>    0.072</td> <td>   -0.319</td> <td> 0.749</td> <td>   -0.163</td> <td>    0.117</td>\n",
       "</tr>\n",
       "<tr>\n",
       "  <th>x12</th>   <td>    0.0273</td> <td>    0.081</td> <td>    0.337</td> <td> 0.736</td> <td>   -0.132</td> <td>    0.186</td>\n",
       "</tr>\n",
       "<tr>\n",
       "  <th>x13</th>   <td>    0.0224</td> <td>    0.082</td> <td>    0.271</td> <td> 0.786</td> <td>   -0.139</td> <td>    0.184</td>\n",
       "</tr>\n",
       "<tr>\n",
       "  <th>x14</th>   <td>   -0.3378</td> <td>    0.125</td> <td>   -2.711</td> <td> 0.007</td> <td>   -0.582</td> <td>   -0.094</td>\n",
       "</tr>\n",
       "<tr>\n",
       "  <th>x15</th>   <td>   -0.0117</td> <td>    0.083</td> <td>   -0.141</td> <td> 0.888</td> <td>   -0.174</td> <td>    0.150</td>\n",
       "</tr>\n",
       "<tr>\n",
       "  <th>x16</th>   <td>    0.0215</td> <td>    0.087</td> <td>    0.246</td> <td> 0.806</td> <td>   -0.150</td> <td>    0.193</td>\n",
       "</tr>\n",
       "<tr>\n",
       "  <th>x17</th>   <td>    0.0534</td> <td>    0.087</td> <td>    0.616</td> <td> 0.538</td> <td>   -0.117</td> <td>    0.223</td>\n",
       "</tr>\n",
       "<tr>\n",
       "  <th>x18</th>   <td>   -0.0278</td> <td>    0.086</td> <td>   -0.324</td> <td> 0.746</td> <td>   -0.196</td> <td>    0.140</td>\n",
       "</tr>\n",
       "<tr>\n",
       "  <th>x19</th>   <td>    0.0130</td> <td>    0.083</td> <td>    0.157</td> <td> 0.875</td> <td>   -0.149</td> <td>    0.175</td>\n",
       "</tr>\n",
       "<tr>\n",
       "  <th>x20</th>   <td>   -0.0133</td> <td>    0.092</td> <td>   -0.145</td> <td> 0.885</td> <td>   -0.194</td> <td>    0.167</td>\n",
       "</tr>\n",
       "<tr>\n",
       "  <th>x21</th>   <td>    0.2724</td> <td>    0.111</td> <td>    2.452</td> <td> 0.014</td> <td>    0.055</td> <td>    0.490</td>\n",
       "</tr>\n",
       "<tr>\n",
       "  <th>x22</th>   <td>    0.7081</td> <td>    0.103</td> <td>    6.884</td> <td> 0.000</td> <td>    0.506</td> <td>    0.910</td>\n",
       "</tr>\n",
       "<tr>\n",
       "  <th>x23</th>   <td>    0.1272</td> <td>    0.093</td> <td>    1.369</td> <td> 0.171</td> <td>   -0.055</td> <td>    0.309</td>\n",
       "</tr>\n",
       "<tr>\n",
       "  <th>x24</th>   <td>    0.0402</td> <td>    0.089</td> <td>    0.451</td> <td> 0.652</td> <td>   -0.134</td> <td>    0.215</td>\n",
       "</tr>\n",
       "<tr>\n",
       "  <th>x25</th>   <td>   -0.0367</td> <td>    0.105</td> <td>   -0.351</td> <td> 0.725</td> <td>   -0.242</td> <td>    0.168</td>\n",
       "</tr>\n",
       "<tr>\n",
       "  <th>x26</th>   <td>   -0.0477</td> <td>    0.088</td> <td>   -0.545</td> <td> 0.586</td> <td>   -0.219</td> <td>    0.124</td>\n",
       "</tr>\n",
       "<tr>\n",
       "  <th>x27</th>   <td>    0.0208</td> <td>    0.075</td> <td>    0.276</td> <td> 0.782</td> <td>   -0.127</td> <td>    0.168</td>\n",
       "</tr>\n",
       "<tr>\n",
       "  <th>x28</th>   <td>   -0.0753</td> <td>    0.078</td> <td>   -0.965</td> <td> 0.335</td> <td>   -0.228</td> <td>    0.078</td>\n",
       "</tr>\n",
       "<tr>\n",
       "  <th>x29</th>   <td>   -0.0599</td> <td>    0.090</td> <td>   -0.668</td> <td> 0.504</td> <td>   -0.236</td> <td>    0.116</td>\n",
       "</tr>\n",
       "<tr>\n",
       "  <th>x30</th>   <td>   -0.0525</td> <td>    0.098</td> <td>   -0.537</td> <td> 0.592</td> <td>   -0.244</td> <td>    0.139</td>\n",
       "</tr>\n",
       "<tr>\n",
       "  <th>x31</th>   <td>    0.2890</td> <td>    0.109</td> <td>    2.657</td> <td> 0.008</td> <td>    0.076</td> <td>    0.502</td>\n",
       "</tr>\n",
       "<tr>\n",
       "  <th>x32</th>   <td>   -0.1810</td> <td> 2.06e+04</td> <td>-8.78e-06</td> <td> 1.000</td> <td>-4.04e+04</td> <td> 4.04e+04</td>\n",
       "</tr>\n",
       "<tr>\n",
       "  <th>x33</th>   <td>    0.3777</td> <td>    0.153</td> <td>    2.472</td> <td> 0.013</td> <td>    0.078</td> <td>    0.677</td>\n",
       "</tr>\n",
       "<tr>\n",
       "  <th>x34</th>   <td>    0.1391</td> <td>    0.093</td> <td>    1.499</td> <td> 0.134</td> <td>   -0.043</td> <td>    0.321</td>\n",
       "</tr>\n",
       "<tr>\n",
       "  <th>x35</th>   <td>    0.0382</td> <td>    0.107</td> <td>    0.357</td> <td> 0.721</td> <td>   -0.172</td> <td>    0.248</td>\n",
       "</tr>\n",
       "<tr>\n",
       "  <th>x36</th>   <td>   -0.0211</td> <td>    0.077</td> <td>   -0.275</td> <td> 0.783</td> <td>   -0.171</td> <td>    0.129</td>\n",
       "</tr>\n",
       "<tr>\n",
       "  <th>x37</th>   <td>    0.5800</td> <td>  750.323</td> <td>    0.001</td> <td> 0.999</td> <td>-1470.026</td> <td> 1471.186</td>\n",
       "</tr>\n",
       "<tr>\n",
       "  <th>x38</th>   <td>    0.1404</td> <td>    0.096</td> <td>    1.469</td> <td> 0.142</td> <td>   -0.047</td> <td>    0.328</td>\n",
       "</tr>\n",
       "<tr>\n",
       "  <th>x39</th>   <td>    0.0793</td> <td>    0.067</td> <td>    1.182</td> <td> 0.237</td> <td>   -0.052</td> <td>    0.211</td>\n",
       "</tr>\n",
       "<tr>\n",
       "  <th>x40</th>   <td>    0.2360</td> <td>    0.164</td> <td>    1.440</td> <td> 0.150</td> <td>   -0.085</td> <td>    0.557</td>\n",
       "</tr>\n",
       "<tr>\n",
       "  <th>x41</th>   <td>    0.0113</td> <td>    0.077</td> <td>    0.148</td> <td> 0.882</td> <td>   -0.139</td> <td>    0.161</td>\n",
       "</tr>\n",
       "<tr>\n",
       "  <th>x42</th>   <td>   -0.9064</td> <td> 1.38e+05</td> <td>-6.57e-06</td> <td> 1.000</td> <td> -2.7e+05</td> <td>  2.7e+05</td>\n",
       "</tr>\n",
       "<tr>\n",
       "  <th>x43</th>   <td>    0.0574</td> <td>    0.074</td> <td>    0.774</td> <td> 0.439</td> <td>   -0.088</td> <td>    0.203</td>\n",
       "</tr>\n",
       "<tr>\n",
       "  <th>x44</th>   <td>   -0.2026</td> <td>    0.088</td> <td>   -2.298</td> <td> 0.022</td> <td>   -0.375</td> <td>   -0.030</td>\n",
       "</tr>\n",
       "<tr>\n",
       "  <th>x45</th>   <td>   -0.2329</td> <td>    0.092</td> <td>   -2.536</td> <td> 0.011</td> <td>   -0.413</td> <td>   -0.053</td>\n",
       "</tr>\n",
       "<tr>\n",
       "  <th>x46</th>   <td>   -6.2620</td> <td>  622.745</td> <td>   -0.010</td> <td> 0.992</td> <td>-1226.821</td> <td> 1214.296</td>\n",
       "</tr>\n",
       "<tr>\n",
       "  <th>x47</th>   <td>    0.2739</td> <td>    0.154</td> <td>    1.775</td> <td> 0.076</td> <td>   -0.029</td> <td>    0.576</td>\n",
       "</tr>\n",
       "<tr>\n",
       "  <th>x48</th>   <td>    0.1079</td> <td>    0.245</td> <td>    0.440</td> <td> 0.660</td> <td>   -0.373</td> <td>    0.588</td>\n",
       "</tr>\n",
       "</table><br/><br/>Possibly complete quasi-separation: A fraction 0.15 of observations can be<br/>perfectly predicted. This might indicate that there is complete<br/>quasi-separation. In this case some parameters will not be identified."
      ],
      "text/plain": [
       "<class 'statsmodels.iolib.summary.Summary'>\n",
       "\"\"\"\n",
       "                           Logit Regression Results                           \n",
       "==============================================================================\n",
       "Dep. Variable:                      y   No. Observations:                 1173\n",
       "Model:                          Logit   Df Residuals:                     1124\n",
       "Method:                           MLE   Df Model:                           48\n",
       "Date:                Fri, 29 Mar 2019   Pseudo R-squ.:                  0.2790\n",
       "Time:                        08:29:24   Log-Likelihood:                -494.20\n",
       "converged:                       True   LL-Null:                       -685.44\n",
       "                                        LLR p-value:                 1.154e-53\n",
       "==============================================================================\n",
       "                 coef    std err          z      P>|z|      [0.025      0.975]\n",
       "------------------------------------------------------------------------------\n",
       "const         -3.8876   4080.380     -0.001      0.999   -8001.286    7993.510\n",
       "x1             0.1786      0.100      1.793      0.073      -0.017       0.374\n",
       "x2             0.2870      0.093      3.095      0.002       0.105       0.469\n",
       "x3            -0.1175      0.098     -1.198      0.231      -0.310       0.075\n",
       "x4             0.1880      0.084      2.240      0.025       0.023       0.353\n",
       "x5             0.2833      0.091      3.101      0.002       0.104       0.462\n",
       "x6             0.5327      0.090      5.951      0.000       0.357       0.708\n",
       "x7            -0.1864      0.093     -1.998      0.046      -0.369      -0.004\n",
       "x8             0.0125      0.116      0.108      0.914      -0.214       0.239\n",
       "x9             0.0592      0.096      0.617      0.537      -0.129       0.247\n",
       "x10           -0.1871      0.101     -1.854      0.064      -0.385       0.011\n",
       "x11           -0.0229      0.072     -0.319      0.749      -0.163       0.117\n",
       "x12            0.0273      0.081      0.337      0.736      -0.132       0.186\n",
       "x13            0.0224      0.082      0.271      0.786      -0.139       0.184\n",
       "x14           -0.3378      0.125     -2.711      0.007      -0.582      -0.094\n",
       "x15           -0.0117      0.083     -0.141      0.888      -0.174       0.150\n",
       "x16            0.0215      0.087      0.246      0.806      -0.150       0.193\n",
       "x17            0.0534      0.087      0.616      0.538      -0.117       0.223\n",
       "x18           -0.0278      0.086     -0.324      0.746      -0.196       0.140\n",
       "x19            0.0130      0.083      0.157      0.875      -0.149       0.175\n",
       "x20           -0.0133      0.092     -0.145      0.885      -0.194       0.167\n",
       "x21            0.2724      0.111      2.452      0.014       0.055       0.490\n",
       "x22            0.7081      0.103      6.884      0.000       0.506       0.910\n",
       "x23            0.1272      0.093      1.369      0.171      -0.055       0.309\n",
       "x24            0.0402      0.089      0.451      0.652      -0.134       0.215\n",
       "x25           -0.0367      0.105     -0.351      0.725      -0.242       0.168\n",
       "x26           -0.0477      0.088     -0.545      0.586      -0.219       0.124\n",
       "x27            0.0208      0.075      0.276      0.782      -0.127       0.168\n",
       "x28           -0.0753      0.078     -0.965      0.335      -0.228       0.078\n",
       "x29           -0.0599      0.090     -0.668      0.504      -0.236       0.116\n",
       "x30           -0.0525      0.098     -0.537      0.592      -0.244       0.139\n",
       "x31            0.2890      0.109      2.657      0.008       0.076       0.502\n",
       "x32           -0.1810   2.06e+04  -8.78e-06      1.000   -4.04e+04    4.04e+04\n",
       "x33            0.3777      0.153      2.472      0.013       0.078       0.677\n",
       "x34            0.1391      0.093      1.499      0.134      -0.043       0.321\n",
       "x35            0.0382      0.107      0.357      0.721      -0.172       0.248\n",
       "x36           -0.0211      0.077     -0.275      0.783      -0.171       0.129\n",
       "x37            0.5800    750.323      0.001      0.999   -1470.026    1471.186\n",
       "x38            0.1404      0.096      1.469      0.142      -0.047       0.328\n",
       "x39            0.0793      0.067      1.182      0.237      -0.052       0.211\n",
       "x40            0.2360      0.164      1.440      0.150      -0.085       0.557\n",
       "x41            0.0113      0.077      0.148      0.882      -0.139       0.161\n",
       "x42           -0.9064   1.38e+05  -6.57e-06      1.000    -2.7e+05     2.7e+05\n",
       "x43            0.0574      0.074      0.774      0.439      -0.088       0.203\n",
       "x44           -0.2026      0.088     -2.298      0.022      -0.375      -0.030\n",
       "x45           -0.2329      0.092     -2.536      0.011      -0.413      -0.053\n",
       "x46           -6.2620    622.745     -0.010      0.992   -1226.821    1214.296\n",
       "x47            0.2739      0.154      1.775      0.076      -0.029       0.576\n",
       "x48            0.1079      0.245      0.440      0.660      -0.373       0.588\n",
       "==============================================================================\n",
       "\n",
       "Possibly complete quasi-separation: A fraction 0.15 of observations can be\n",
       "perfectly predicted. This might indicate that there is complete\n",
       "quasi-separation. In this case some parameters will not be identified.\n",
       "\"\"\""
      ]
     },
     "execution_count": 35,
     "metadata": {},
     "output_type": "execute_result"
    }
   ],
   "source": [
    "# p-value WITH DEMOGRAPHICS using Statsmodel Logistic Regression\n",
    "\n",
    "X_1 = independent_q1\n",
    "Y_1 = dep_3a.values.astype(int)\n",
    "\n",
    "scaler = preprocessing.StandardScaler()\n",
    "scaler.fit(X_1)\n",
    "X_transformed_1 = scaler.transform(X_1)\n",
    "\n",
    "X_transformed_1 = np.hstack([np.ones([X_transformed_1.shape[0],1]), X_transformed_1])\n",
    "\n",
    "logit = sm.Logit(Y_1, X_transformed_1)\n",
    "fitted_model_demo = logit.fit_regularized()\n",
    "fitted_model_demo.summary()"
   ]
  },
  {
   "cell_type": "markdown",
   "metadata": {},
   "source": [
    "Pseudo r-squared will be used to evaluate the model. Statsmodel uses McFadden’s pseudo-R-squared ([Source](https://www.statsmodels.org/dev/generated/statsmodels.discrete.discrete_model.LogitResults.html)). According to McFadden (1997, pg.35), the resulting values tend to be lower than R^2 index and should be interpreted differently. Typically, values of 0.2 to 0.4 represents an excellent fit ([Source](http://cowles.yale.edu/sites/default/files/files/pub/d04/d0474.pdf)).\n",
    "\n",
    "The pseudo R-squared of the above moel is 0.27, indicating the model is a good fit. The LLR p-value is 1.154e-53, which is less than 0.05. The result suggests that all the features together have an effect on one's comfort level in discussing MH with coworkers. \n",
    "\n",
    "Within the model, there are a number of individual features that are statisically significant. The questions will be noted to be used at a later stage of the analysis.\n",
    "\n",
    "------\n",
    "\n",
    "Next, a second model will be constructed to determine feature importance. XGB Classifier and Random Forrest Classifier will be considered for this phase, since both models have feature importances built into the model which fits our needs.\n",
    "\n",
    "One thing to note before proceeding to the second model - \n",
    "\n",
    "From the count of the responses of the dependent variable, there seems to be a class imbalance of 4:1, with class 0 (Hesitant) being the majority class and class 1 (comfortable) being the minority class."
   ]
  },
  {
   "cell_type": "code",
   "execution_count": 36,
   "metadata": {},
   "outputs": [
    {
     "data": {
      "text/plain": [
       "Would you feel comfortable discussing a mental health issue with your coworkers?\n",
       "0    855\n",
       "1    318\n",
       "Name: Would you feel comfortable discussing a mental health issue with your coworkers?, dtype: int64"
      ]
     },
     "execution_count": 36,
     "metadata": {},
     "output_type": "execute_result"
    }
   ],
   "source": [
    "# Counting the response of the dependent variable\n",
    "dep_3a.groupby(dep).count()"
   ]
  },
  {
   "cell_type": "markdown",
   "metadata": {},
   "source": [
    "As a result, accuracy score alone will no longer be an accurate metric to evaluate the model, since the accuracy score will fail to capture the potential inflated false negative rate due to the class imbalance favouring the negative class. F1 score will be introduced as a second evaluation metric, since the calculation of F1 score takes the false negatives into an account."
   ]
  },
  {
   "cell_type": "code",
   "execution_count": 37,
   "metadata": {},
   "outputs": [],
   "source": [
    "# Creating a model to get the feature importances\n",
    "# Using GridSearchCV to determine best model for the features\n",
    "\n",
    "# Filter any deprecationwarning associated with numpy\n",
    "warnings.filterwarnings(\"ignore\",category=DeprecationWarning)\n",
    "\n",
    "# creating and fitting the model\n",
    "ind_q1 = independent_q1.copy()\n",
    "ind_q1.columns = [np.arange(len(ind_q1.columns))]\n",
    "\n",
    "X_train, X_test, y_train, y_test = train_test_split(ind_q1,dep_3a.values.astype(int),test_size = 0.2)\n",
    "\n",
    "\n",
    "estimators = [(\"normalize\", preprocessing.StandardScaler()),\n",
    "             (\"model\",LogisticRegression())]\n",
    "\n",
    "pipe = pipeline.Pipeline(estimators)\n",
    "\n",
    "param_grid = [{\"model\":[XGBClassifier()], \n",
    "               \"normalize\": [preprocessing.StandardScaler(), preprocessing.MinMaxScaler(), None],\n",
    "               \"model__max_depth\":[1,2,3,4,5],\"model__n_estimators\":[50,100,150,200],\"model__n_jobs\":[6]},\n",
    "              {\"model\": [RandomForestClassifier()],\n",
    "               \"normalize\": [preprocessing.StandardScaler(), preprocessing.MinMaxScaler(), None],\n",
    "               \"model__n_estimators\":[100,150,200],\"model__class_weight\":[{0: 1, 1: 3}],\n",
    "               \"model__n_jobs\":[6]}]\n",
    "\n",
    "grid = GridSearchCV(pipe, param_grid, cv=5, n_jobs=6)\n",
    "fitted_grid_1 = grid.fit(X_train,y_train)"
   ]
  },
  {
   "cell_type": "code",
   "execution_count": 38,
   "metadata": {},
   "outputs": [
    {
     "data": {
      "text/plain": [
       "Pipeline(memory=None,\n",
       "     steps=[('normalize', StandardScaler(copy=True, with_mean=True, with_std=True)), ('model', XGBClassifier(base_score=0.5, booster='gbtree', colsample_bylevel=1,\n",
       "       colsample_bytree=1, gamma=0, learning_rate=0.1, max_delta_step=0,\n",
       "       max_depth=1, min_child_weight=1, missing=None, n_estimators=150,\n",
       "       n_jobs=6, nthread=None, objective='binary:logistic', random_state=0,\n",
       "       reg_alpha=0, reg_lambda=1, scale_pos_weight=1, seed=None,\n",
       "       silent=True, subsample=1))])"
      ]
     },
     "execution_count": 38,
     "metadata": {},
     "output_type": "execute_result"
    }
   ],
   "source": [
    "# best model\n",
    "fitted_grid_1.best_estimator_"
   ]
  },
  {
   "cell_type": "code",
   "execution_count": 39,
   "metadata": {},
   "outputs": [
    {
     "name": "stdout",
     "output_type": "stream",
     "text": [
      "Validation score of the best model: 77.29 %\n"
     ]
    }
   ],
   "source": [
    "# Validation score of the best model\n",
    "print(\"Validation score of the best model:\",round(fitted_grid_1.best_score_*100,2),\"%\")"
   ]
  },
  {
   "cell_type": "code",
   "execution_count": 40,
   "metadata": {},
   "outputs": [
    {
     "name": "stdout",
     "output_type": "stream",
     "text": [
      "Test score of the best model: 80.43 %\n"
     ]
    }
   ],
   "source": [
    "# test score of the best model using unseen data\n",
    "print(\"Test score of the best model:\",round(fitted_grid_1.score(X_test,y_test)*100,2),\"%\")"
   ]
  },
  {
   "cell_type": "code",
   "execution_count": 41,
   "metadata": {},
   "outputs": [
    {
     "name": "stdout",
     "output_type": "stream",
     "text": [
      "F1 score of the best model: 45.24 %\n"
     ]
    }
   ],
   "source": [
    "# f1 score of the model using unseen data\n",
    "y_pred = fitted_grid_1.predict(X_test)\n",
    "\n",
    "print(\"F1 score of the best model:\",round(f1_score(y_test,y_pred)*100,2),\"%\")"
   ]
  },
  {
   "cell_type": "markdown",
   "metadata": {},
   "source": [
    "Based on the results of GridSearchCV, the XGB classifier with the hyperparameters chosen by GridSearch is the best model, and there will be limitations to the amount of improvement possible due to the quality of the features.\n",
    "\n",
    "Next, the feature importances will be determined and the individual questions that are statistically significantly will be selected and visualized below."
   ]
  },
  {
   "cell_type": "code",
   "execution_count": 42,
   "metadata": {
    "scrolled": false
   },
   "outputs": [
    {
     "data": {
      "text/html": [
       "<div>\n",
       "<style scoped>\n",
       "    .dataframe tbody tr th:only-of-type {\n",
       "        vertical-align: middle;\n",
       "    }\n",
       "\n",
       "    .dataframe tbody tr th {\n",
       "        vertical-align: top;\n",
       "    }\n",
       "\n",
       "    .dataframe thead th {\n",
       "        text-align: right;\n",
       "    }\n",
       "</style>\n",
       "<table border=\"1\" class=\"dataframe\">\n",
       "  <thead>\n",
       "    <tr style=\"text-align: right;\">\n",
       "      <th></th>\n",
       "      <th>Question</th>\n",
       "      <th>Odds Ratio</th>\n",
       "      <th>Percentage</th>\n",
       "    </tr>\n",
       "  </thead>\n",
       "  <tbody>\n",
       "    <tr>\n",
       "      <th>0</th>\n",
       "      <td>How willing would you be to share with friends...</td>\n",
       "      <td>1.313082</td>\n",
       "      <td>31.308178</td>\n",
       "    </tr>\n",
       "    <tr>\n",
       "      <th>1</th>\n",
       "      <td>If a mental health issue prompted you to reque...</td>\n",
       "      <td>1.327440</td>\n",
       "      <td>32.743986</td>\n",
       "    </tr>\n",
       "    <tr>\n",
       "      <th>2</th>\n",
       "      <td>Personality Disorder</td>\n",
       "      <td>1.022615</td>\n",
       "      <td>2.261523</td>\n",
       "    </tr>\n",
       "    <tr>\n",
       "      <th>3</th>\n",
       "      <td>More than 1000</td>\n",
       "      <td>1.059056</td>\n",
       "      <td>5.905594</td>\n",
       "    </tr>\n",
       "    <tr>\n",
       "      <th>4</th>\n",
       "      <td>Has your employer ever formally discussed ment...</td>\n",
       "      <td>1.195559</td>\n",
       "      <td>19.555898</td>\n",
       "    </tr>\n",
       "    <tr>\n",
       "      <th>5</th>\n",
       "      <td>What is your age?</td>\n",
       "      <td>0.816591</td>\n",
       "      <td>-18.340862</td>\n",
       "    </tr>\n",
       "    <tr>\n",
       "      <th>6</th>\n",
       "      <td>Have you ever sought treatment for a mental he...</td>\n",
       "      <td>0.986760</td>\n",
       "      <td>-1.324044</td>\n",
       "    </tr>\n",
       "    <tr>\n",
       "      <th>7</th>\n",
       "      <td>Have your observations of how another individu...</td>\n",
       "      <td>1.703508</td>\n",
       "      <td>70.350783</td>\n",
       "    </tr>\n",
       "    <tr>\n",
       "      <th>8</th>\n",
       "      <td>If a mental health issue prompted you to reque...</td>\n",
       "      <td>0.889132</td>\n",
       "      <td>-11.086848</td>\n",
       "    </tr>\n",
       "    <tr>\n",
       "      <th>9</th>\n",
       "      <td>If a mental health issue prompted you to reque...</td>\n",
       "      <td>1.206851</td>\n",
       "      <td>20.685118</td>\n",
       "    </tr>\n",
       "    <tr>\n",
       "      <th>10</th>\n",
       "      <td>Asia</td>\n",
       "      <td>0.948889</td>\n",
       "      <td>-5.111093</td>\n",
       "    </tr>\n",
       "    <tr>\n",
       "      <th>11</th>\n",
       "      <td>Europe</td>\n",
       "      <td>0.834408</td>\n",
       "      <td>-16.559159</td>\n",
       "    </tr>\n",
       "  </tbody>\n",
       "</table>\n",
       "</div>"
      ],
      "text/plain": [
       "                                             Question  Odds Ratio  Percentage\n",
       "0   How willing would you be to share with friends...    1.313082   31.308178\n",
       "1   If a mental health issue prompted you to reque...    1.327440   32.743986\n",
       "2                                Personality Disorder    1.022615    2.261523\n",
       "3                                      More than 1000    1.059056    5.905594\n",
       "4   Has your employer ever formally discussed ment...    1.195559   19.555898\n",
       "5                                   What is your age?    0.816591  -18.340862\n",
       "6   Have you ever sought treatment for a mental he...    0.986760   -1.324044\n",
       "7   Have your observations of how another individu...    1.703508   70.350783\n",
       "8   If a mental health issue prompted you to reque...    0.889132  -11.086848\n",
       "9   If a mental health issue prompted you to reque...    1.206851   20.685118\n",
       "10                                               Asia    0.948889   -5.111093\n",
       "11                                             Europe    0.834408  -16.559159"
      ]
     },
     "execution_count": 42,
     "metadata": {},
     "output_type": "execute_result"
    }
   ],
   "source": [
    "# Ranking of factors that are important for predicting comfort level, from most to least important\n",
    "indices = np.flip(fitted_grid_1.best_estimator_.named_steps[\"model\"].feature_importances_.argsort())\n",
    "\n",
    "# creating a list of factors that are statistically significant\n",
    "sig_list = [1,3,4,5,6,13,20,21,30,32,43,44]\n",
    "\n",
    "numbers = []\n",
    "for position,idx in enumerate(indices):\n",
    "    for num in sig_list:\n",
    "        if idx == num:\n",
    "            numbers.append(idx)\n",
    "\n",
    "list_of_q = independent_q1.columns[numbers].values\n",
    "odds_ratio = np.exp(fitted_model_demo.params)[numbers]\n",
    "percentage = (odds_ratio - 1) * 100\n",
    "\n",
    "q3a_result = pd.DataFrame({\"Question\": list_of_q,\"Odds Ratio\": odds_ratio, \"Percentage\": percentage})\n",
    "q3a_result"
   ]
  },
  {
   "cell_type": "markdown",
   "metadata": {},
   "source": [
    "The questions in the table are ranked by the feature importance of building the XGB Classifier model, and the odds ratios are generated from the first Logistic Regression model.\n",
    "\n",
    "The odds ratios can be converted into an interpretable percentage via the following function [(Source)](https://stats.stackexchange.com/questions/391482/statsmodel-logistic-regression):\n",
    "\n",
    "$$ (𝑒𝑥𝑝(𝛽1)−1)×100 $$\n",
    "\n",
    "First, it is interesting to mention that some of the demographic factors impact comfort level, noticeably age, Personality disorder, company size more than 1000, Europe and Asia.\n",
    "\n",
    "Within the demographics category, age has the larest impact on the model. A person is 18% less likely to be comfortable with discussing MH with coworkers with an unit of increase in age. Age as a factor is somewhat expected, as the younger generations brought up with more progressive ideas and tend to be more vocal about authenticity, change and transparency in many aspects of their lives.\n",
    "\n",
    "Willingness to share the MH diagnoses to friends and family is the most important factor in building the model. Employees are 31% more likely to be comfortable with MH discussions if they are willing to share their MH diagnoses with their friends and family. This infers that there is a component of personal comfort attributed to one's comfort level regardless of the workplace environment.\n",
    "\n",
    "One surprising finding is the relationship between the impact of one's observation of other MH discussions in the workplace has and one's comfort level in discussing such topics with co-workers. People who feel less inclined to reveal a MH issue due to their observations of similar discussions at work are 70% more likely to be comfortable with MH discussions. This may indicate a fragility to the comfort level in the sense that the workplace environment and attitude towards MH can greatly affect their likelihood in opening up at work. "
   ]
  },
  {
   "cell_type": "markdown",
   "metadata": {},
   "source": [
    "------\n",
    "\n",
    "#### b) Comfort discussing with supervisors\n",
    "------\n",
    "\n",
    "<u>Null Hypothesis:</u> The features, both individually and together collectively, *have no effect* on one's comfort in discussing MH with direct supervisors.\n",
    "\n",
    "<u>Alternative Hypothesis:</u> The features, both individually and together collectively, *have an effect* on one's comfort in discussing MH with direct supervisors.\n",
    "\n",
    "The alpha will be set at 0.05 and the confidence interval is set at 95%, which means the null hypothesis can be rejected if the p-value less than 0.05 and the confidence interval does not cross zero."
   ]
  },
  {
   "cell_type": "code",
   "execution_count": 43,
   "metadata": {
    "scrolled": true
   },
   "outputs": [
    {
     "name": "stdout",
     "output_type": "stream",
     "text": [
      "Optimization terminated successfully.    (Exit mode 0)\n",
      "            Current function value: 0.4524186983610468\n",
      "            Iterations: 101\n",
      "            Function evaluations: 101\n",
      "            Gradient evaluations: 101\n"
     ]
    },
    {
     "data": {
      "text/html": [
       "<table class=\"simpletable\">\n",
       "<caption>Logit Regression Results</caption>\n",
       "<tr>\n",
       "  <th>Dep. Variable:</th>         <td>y</td>        <th>  No. Observations:  </th>  <td>  1173</td>  \n",
       "</tr>\n",
       "<tr>\n",
       "  <th>Model:</th>               <td>Logit</td>      <th>  Df Residuals:      </th>  <td>  1124</td>  \n",
       "</tr>\n",
       "<tr>\n",
       "  <th>Method:</th>               <td>MLE</td>       <th>  Df Model:          </th>  <td>    48</td>  \n",
       "</tr>\n",
       "<tr>\n",
       "  <th>Date:</th>          <td>Fri, 29 Mar 2019</td> <th>  Pseudo R-squ.:     </th>  <td>0.2865</td>  \n",
       "</tr>\n",
       "<tr>\n",
       "  <th>Time:</th>              <td>08:30:46</td>     <th>  Log-Likelihood:    </th> <td> -530.69</td> \n",
       "</tr>\n",
       "<tr>\n",
       "  <th>converged:</th>           <td>True</td>       <th>  LL-Null:           </th> <td> -743.83</td> \n",
       "</tr>\n",
       "<tr>\n",
       "  <th> </th>                      <td> </td>        <th>  LLR p-value:       </th> <td>4.269e-62</td>\n",
       "</tr>\n",
       "</table>\n",
       "<table class=\"simpletable\">\n",
       "<tr>\n",
       "    <td></td>       <th>coef</th>     <th>std err</th>      <th>z</th>      <th>P>|z|</th>  <th>[0.025</th>    <th>0.975]</th>  \n",
       "</tr>\n",
       "<tr>\n",
       "  <th>const</th> <td>   -3.7444</td> <td> 6.79e+04</td> <td>-5.51e-05</td> <td> 1.000</td> <td>-1.33e+05</td> <td> 1.33e+05</td>\n",
       "</tr>\n",
       "<tr>\n",
       "  <th>x1</th>    <td>   -0.0873</td> <td>    0.094</td> <td>   -0.929</td> <td> 0.353</td> <td>   -0.272</td> <td>    0.097</td>\n",
       "</tr>\n",
       "<tr>\n",
       "  <th>x2</th>    <td>   -0.0602</td> <td>    0.089</td> <td>   -0.678</td> <td> 0.498</td> <td>   -0.234</td> <td>    0.114</td>\n",
       "</tr>\n",
       "<tr>\n",
       "  <th>x3</th>    <td>    0.1002</td> <td>    0.093</td> <td>    1.081</td> <td> 0.280</td> <td>   -0.081</td> <td>    0.282</td>\n",
       "</tr>\n",
       "<tr>\n",
       "  <th>x4</th>    <td>    0.2839</td> <td>    0.078</td> <td>    3.654</td> <td> 0.000</td> <td>    0.132</td> <td>    0.436</td>\n",
       "</tr>\n",
       "<tr>\n",
       "  <th>x5</th>    <td>    0.3212</td> <td>    0.085</td> <td>    3.778</td> <td> 0.000</td> <td>    0.155</td> <td>    0.488</td>\n",
       "</tr>\n",
       "<tr>\n",
       "  <th>x6</th>    <td>    0.4869</td> <td>    0.086</td> <td>    5.653</td> <td> 0.000</td> <td>    0.318</td> <td>    0.656</td>\n",
       "</tr>\n",
       "<tr>\n",
       "  <th>x7</th>    <td>   -0.1611</td> <td>    0.087</td> <td>   -1.856</td> <td> 0.063</td> <td>   -0.331</td> <td>    0.009</td>\n",
       "</tr>\n",
       "<tr>\n",
       "  <th>x8</th>    <td>    0.0635</td> <td>    0.113</td> <td>    0.565</td> <td> 0.572</td> <td>   -0.157</td> <td>    0.284</td>\n",
       "</tr>\n",
       "<tr>\n",
       "  <th>x9</th>    <td>    0.0192</td> <td>    0.091</td> <td>    0.210</td> <td> 0.833</td> <td>   -0.160</td> <td>    0.198</td>\n",
       "</tr>\n",
       "<tr>\n",
       "  <th>x10</th>   <td>   -0.2863</td> <td>    0.098</td> <td>   -2.911</td> <td> 0.004</td> <td>   -0.479</td> <td>   -0.094</td>\n",
       "</tr>\n",
       "<tr>\n",
       "  <th>x11</th>   <td>    0.0358</td> <td>    0.074</td> <td>    0.485</td> <td> 0.627</td> <td>   -0.109</td> <td>    0.180</td>\n",
       "</tr>\n",
       "<tr>\n",
       "  <th>x12</th>   <td>   -0.0919</td> <td>    0.081</td> <td>   -1.141</td> <td> 0.254</td> <td>   -0.250</td> <td>    0.066</td>\n",
       "</tr>\n",
       "<tr>\n",
       "  <th>x13</th>   <td>   -0.0722</td> <td>    0.082</td> <td>   -0.886</td> <td> 0.376</td> <td>   -0.232</td> <td>    0.088</td>\n",
       "</tr>\n",
       "<tr>\n",
       "  <th>x14</th>   <td>    0.0429</td> <td>    0.079</td> <td>    0.541</td> <td> 0.589</td> <td>   -0.113</td> <td>    0.198</td>\n",
       "</tr>\n",
       "<tr>\n",
       "  <th>x15</th>   <td>   -0.0679</td> <td>    0.080</td> <td>   -0.845</td> <td> 0.398</td> <td>   -0.225</td> <td>    0.090</td>\n",
       "</tr>\n",
       "<tr>\n",
       "  <th>x16</th>   <td>   -0.1785</td> <td>    0.091</td> <td>   -1.972</td> <td> 0.049</td> <td>   -0.356</td> <td>   -0.001</td>\n",
       "</tr>\n",
       "<tr>\n",
       "  <th>x17</th>   <td>    0.0805</td> <td>    0.089</td> <td>    0.904</td> <td> 0.366</td> <td>   -0.094</td> <td>    0.255</td>\n",
       "</tr>\n",
       "<tr>\n",
       "  <th>x18</th>   <td>    0.1084</td> <td>    0.079</td> <td>    1.376</td> <td> 0.169</td> <td>   -0.046</td> <td>    0.263</td>\n",
       "</tr>\n",
       "<tr>\n",
       "  <th>x19</th>   <td>    0.1328</td> <td>    0.143</td> <td>    0.927</td> <td> 0.354</td> <td>   -0.148</td> <td>    0.414</td>\n",
       "</tr>\n",
       "<tr>\n",
       "  <th>x20</th>   <td>   -0.1978</td> <td>    0.098</td> <td>   -2.012</td> <td> 0.044</td> <td>   -0.390</td> <td>   -0.005</td>\n",
       "</tr>\n",
       "<tr>\n",
       "  <th>x21</th>   <td>    0.2140</td> <td>    0.106</td> <td>    2.024</td> <td> 0.043</td> <td>    0.007</td> <td>    0.421</td>\n",
       "</tr>\n",
       "<tr>\n",
       "  <th>x22</th>   <td>    0.6088</td> <td>    0.093</td> <td>    6.561</td> <td> 0.000</td> <td>    0.427</td> <td>    0.791</td>\n",
       "</tr>\n",
       "<tr>\n",
       "  <th>x23</th>   <td>    0.4051</td> <td>    0.091</td> <td>    4.463</td> <td> 0.000</td> <td>    0.227</td> <td>    0.583</td>\n",
       "</tr>\n",
       "<tr>\n",
       "  <th>x24</th>   <td>    0.2062</td> <td>    0.086</td> <td>    2.395</td> <td> 0.017</td> <td>    0.037</td> <td>    0.375</td>\n",
       "</tr>\n",
       "<tr>\n",
       "  <th>x25</th>   <td>   -0.1476</td> <td>    0.106</td> <td>   -1.386</td> <td> 0.166</td> <td>   -0.356</td> <td>    0.061</td>\n",
       "</tr>\n",
       "<tr>\n",
       "  <th>x26</th>   <td>   -0.0678</td> <td>    0.083</td> <td>   -0.818</td> <td> 0.413</td> <td>   -0.230</td> <td>    0.095</td>\n",
       "</tr>\n",
       "<tr>\n",
       "  <th>x27</th>   <td>   -0.0394</td> <td>    0.078</td> <td>   -0.506</td> <td> 0.613</td> <td>   -0.192</td> <td>    0.113</td>\n",
       "</tr>\n",
       "<tr>\n",
       "  <th>x28</th>   <td>   -2.2808</td> <td> 1.04e+06</td> <td> -2.2e-06</td> <td> 1.000</td> <td>-2.03e+06</td> <td> 2.03e+06</td>\n",
       "</tr>\n",
       "<tr>\n",
       "  <th>x29</th>   <td>    0.1247</td> <td>    0.095</td> <td>    1.310</td> <td> 0.190</td> <td>   -0.062</td> <td>    0.311</td>\n",
       "</tr>\n",
       "<tr>\n",
       "  <th>x30</th>   <td>    0.1042</td> <td>    0.073</td> <td>    1.431</td> <td> 0.152</td> <td>   -0.038</td> <td>    0.247</td>\n",
       "</tr>\n",
       "<tr>\n",
       "  <th>x31</th>   <td>    0.0626</td> <td>    0.107</td> <td>    0.586</td> <td> 0.558</td> <td>   -0.147</td> <td>    0.272</td>\n",
       "</tr>\n",
       "<tr>\n",
       "  <th>x32</th>   <td>   -0.1430</td> <td> 2.15e+04</td> <td>-6.64e-06</td> <td> 1.000</td> <td>-4.22e+04</td> <td> 4.22e+04</td>\n",
       "</tr>\n",
       "<tr>\n",
       "  <th>x33</th>   <td>    0.0102</td> <td>    0.139</td> <td>    0.074</td> <td> 0.941</td> <td>   -0.261</td> <td>    0.282</td>\n",
       "</tr>\n",
       "<tr>\n",
       "  <th>x34</th>   <td>    0.0607</td> <td>    0.087</td> <td>    0.698</td> <td> 0.485</td> <td>   -0.110</td> <td>    0.231</td>\n",
       "</tr>\n",
       "<tr>\n",
       "  <th>x35</th>   <td>    0.0398</td> <td>    0.087</td> <td>    0.459</td> <td> 0.646</td> <td>   -0.130</td> <td>    0.210</td>\n",
       "</tr>\n",
       "<tr>\n",
       "  <th>x36</th>   <td>   -0.2354</td> <td>    0.114</td> <td>   -2.070</td> <td> 0.038</td> <td>   -0.458</td> <td>   -0.013</td>\n",
       "</tr>\n",
       "<tr>\n",
       "  <th>x37</th>   <td>    0.4981</td> <td>  339.695</td> <td>    0.001</td> <td> 0.999</td> <td> -665.292</td> <td>  666.288</td>\n",
       "</tr>\n",
       "<tr>\n",
       "  <th>x38</th>   <td>    0.0512</td> <td>    0.092</td> <td>    0.556</td> <td> 0.578</td> <td>   -0.129</td> <td>    0.232</td>\n",
       "</tr>\n",
       "<tr>\n",
       "  <th>x39</th>   <td>    0.0431</td> <td>    0.082</td> <td>    0.526</td> <td> 0.599</td> <td>   -0.118</td> <td>    0.204</td>\n",
       "</tr>\n",
       "<tr>\n",
       "  <th>x40</th>   <td>    0.2837</td> <td>    0.147</td> <td>    1.934</td> <td> 0.053</td> <td>   -0.004</td> <td>    0.571</td>\n",
       "</tr>\n",
       "<tr>\n",
       "  <th>x41</th>   <td>    0.0669</td> <td>    0.070</td> <td>    0.951</td> <td> 0.341</td> <td>   -0.071</td> <td>    0.205</td>\n",
       "</tr>\n",
       "<tr>\n",
       "  <th>x42</th>   <td>   -0.9019</td> <td> 1.14e+05</td> <td>-7.94e-06</td> <td> 1.000</td> <td>-2.23e+05</td> <td> 2.23e+05</td>\n",
       "</tr>\n",
       "<tr>\n",
       "  <th>x43</th>   <td>    0.0169</td> <td>    0.073</td> <td>    0.231</td> <td> 0.818</td> <td>   -0.126</td> <td>    0.160</td>\n",
       "</tr>\n",
       "<tr>\n",
       "  <th>x44</th>   <td>   -0.1055</td> <td>    0.082</td> <td>   -1.284</td> <td> 0.199</td> <td>   -0.267</td> <td>    0.056</td>\n",
       "</tr>\n",
       "<tr>\n",
       "  <th>x45</th>   <td>   -0.0223</td> <td>    0.084</td> <td>   -0.265</td> <td> 0.791</td> <td>   -0.187</td> <td>    0.143</td>\n",
       "</tr>\n",
       "<tr>\n",
       "  <th>x46</th>   <td>   -6.7142</td> <td>  800.043</td> <td>   -0.008</td> <td> 0.993</td> <td>-1574.770</td> <td> 1561.342</td>\n",
       "</tr>\n",
       "<tr>\n",
       "  <th>x47</th>   <td>   -0.0284</td> <td>    0.142</td> <td>   -0.200</td> <td> 0.842</td> <td>   -0.307</td> <td>    0.250</td>\n",
       "</tr>\n",
       "<tr>\n",
       "  <th>x48</th>   <td>    0.2534</td> <td>    0.237</td> <td>    1.068</td> <td> 0.286</td> <td>   -0.212</td> <td>    0.718</td>\n",
       "</tr>\n",
       "</table><br/><br/>Possibly complete quasi-separation: A fraction 0.15 of observations can be<br/>perfectly predicted. This might indicate that there is complete<br/>quasi-separation. In this case some parameters will not be identified."
      ],
      "text/plain": [
       "<class 'statsmodels.iolib.summary.Summary'>\n",
       "\"\"\"\n",
       "                           Logit Regression Results                           \n",
       "==============================================================================\n",
       "Dep. Variable:                      y   No. Observations:                 1173\n",
       "Model:                          Logit   Df Residuals:                     1124\n",
       "Method:                           MLE   Df Model:                           48\n",
       "Date:                Fri, 29 Mar 2019   Pseudo R-squ.:                  0.2865\n",
       "Time:                        08:30:46   Log-Likelihood:                -530.69\n",
       "converged:                       True   LL-Null:                       -743.83\n",
       "                                        LLR p-value:                 4.269e-62\n",
       "==============================================================================\n",
       "                 coef    std err          z      P>|z|      [0.025      0.975]\n",
       "------------------------------------------------------------------------------\n",
       "const         -3.7444   6.79e+04  -5.51e-05      1.000   -1.33e+05    1.33e+05\n",
       "x1            -0.0873      0.094     -0.929      0.353      -0.272       0.097\n",
       "x2            -0.0602      0.089     -0.678      0.498      -0.234       0.114\n",
       "x3             0.1002      0.093      1.081      0.280      -0.081       0.282\n",
       "x4             0.2839      0.078      3.654      0.000       0.132       0.436\n",
       "x5             0.3212      0.085      3.778      0.000       0.155       0.488\n",
       "x6             0.4869      0.086      5.653      0.000       0.318       0.656\n",
       "x7            -0.1611      0.087     -1.856      0.063      -0.331       0.009\n",
       "x8             0.0635      0.113      0.565      0.572      -0.157       0.284\n",
       "x9             0.0192      0.091      0.210      0.833      -0.160       0.198\n",
       "x10           -0.2863      0.098     -2.911      0.004      -0.479      -0.094\n",
       "x11            0.0358      0.074      0.485      0.627      -0.109       0.180\n",
       "x12           -0.0919      0.081     -1.141      0.254      -0.250       0.066\n",
       "x13           -0.0722      0.082     -0.886      0.376      -0.232       0.088\n",
       "x14            0.0429      0.079      0.541      0.589      -0.113       0.198\n",
       "x15           -0.0679      0.080     -0.845      0.398      -0.225       0.090\n",
       "x16           -0.1785      0.091     -1.972      0.049      -0.356      -0.001\n",
       "x17            0.0805      0.089      0.904      0.366      -0.094       0.255\n",
       "x18            0.1084      0.079      1.376      0.169      -0.046       0.263\n",
       "x19            0.1328      0.143      0.927      0.354      -0.148       0.414\n",
       "x20           -0.1978      0.098     -2.012      0.044      -0.390      -0.005\n",
       "x21            0.2140      0.106      2.024      0.043       0.007       0.421\n",
       "x22            0.6088      0.093      6.561      0.000       0.427       0.791\n",
       "x23            0.4051      0.091      4.463      0.000       0.227       0.583\n",
       "x24            0.2062      0.086      2.395      0.017       0.037       0.375\n",
       "x25           -0.1476      0.106     -1.386      0.166      -0.356       0.061\n",
       "x26           -0.0678      0.083     -0.818      0.413      -0.230       0.095\n",
       "x27           -0.0394      0.078     -0.506      0.613      -0.192       0.113\n",
       "x28           -2.2808   1.04e+06   -2.2e-06      1.000   -2.03e+06    2.03e+06\n",
       "x29            0.1247      0.095      1.310      0.190      -0.062       0.311\n",
       "x30            0.1042      0.073      1.431      0.152      -0.038       0.247\n",
       "x31            0.0626      0.107      0.586      0.558      -0.147       0.272\n",
       "x32           -0.1430   2.15e+04  -6.64e-06      1.000   -4.22e+04    4.22e+04\n",
       "x33            0.0102      0.139      0.074      0.941      -0.261       0.282\n",
       "x34            0.0607      0.087      0.698      0.485      -0.110       0.231\n",
       "x35            0.0398      0.087      0.459      0.646      -0.130       0.210\n",
       "x36           -0.2354      0.114     -2.070      0.038      -0.458      -0.013\n",
       "x37            0.4981    339.695      0.001      0.999    -665.292     666.288\n",
       "x38            0.0512      0.092      0.556      0.578      -0.129       0.232\n",
       "x39            0.0431      0.082      0.526      0.599      -0.118       0.204\n",
       "x40            0.2837      0.147      1.934      0.053      -0.004       0.571\n",
       "x41            0.0669      0.070      0.951      0.341      -0.071       0.205\n",
       "x42           -0.9019   1.14e+05  -7.94e-06      1.000   -2.23e+05    2.23e+05\n",
       "x43            0.0169      0.073      0.231      0.818      -0.126       0.160\n",
       "x44           -0.1055      0.082     -1.284      0.199      -0.267       0.056\n",
       "x45           -0.0223      0.084     -0.265      0.791      -0.187       0.143\n",
       "x46           -6.7142    800.043     -0.008      0.993   -1574.770    1561.342\n",
       "x47           -0.0284      0.142     -0.200      0.842      -0.307       0.250\n",
       "x48            0.2534      0.237      1.068      0.286      -0.212       0.718\n",
       "==============================================================================\n",
       "\n",
       "Possibly complete quasi-separation: A fraction 0.15 of observations can be\n",
       "perfectly predicted. This might indicate that there is complete\n",
       "quasi-separation. In this case some parameters will not be identified.\n",
       "\"\"\""
      ]
     },
     "execution_count": 43,
     "metadata": {},
     "output_type": "execute_result"
    }
   ],
   "source": [
    "# 2nd question regarding supervisors\n",
    "# p-value WITH DEMOGRAPHICS\n",
    "\n",
    "X_1 = independent_q1\n",
    "Y_1 = dep_3b.values.astype(int)\n",
    "\n",
    "scaler = preprocessing.StandardScaler()\n",
    "scaler.fit(X_1)\n",
    "X_transformed_1 = scaler.transform(X_1)\n",
    "\n",
    "X_transformed_1 = np.hstack([np.ones([X_transformed_1.shape[0],1]), X_transformed_1])\n",
    "\n",
    "logit = sm.Logit(Y_1, X_transformed_1)\n",
    "fitted_model_demo = logit.fit_regularized()\n",
    "fitted_model_demo.summary()"
   ]
  },
  {
   "cell_type": "markdown",
   "metadata": {},
   "source": [
    "The pseudo R-squared of the above moel is 0.28, indicating the model is a good fit. The LLR p-value is 4.269e-62, which is less than 0.05. The result suggests that all the features together have an effect on one's comfort level in discussing MH with direct supervisors. \n",
    "\n",
    "Within the model, there are a number of individual features that are statisically significant. The questions will be noted to be used at a later stage of the analysis.\n",
    "\n",
    "------\n",
    "\n",
    "Next, a second model will be constructed to determine feature importance. XGB Classifier and Random Forrest Classifier will be considered for this phase, since both models have feature importances built into the model which fits our needs.\n",
    "\n",
    "One thing to note before proceeding to the second model - \n",
    "\n",
    "From the count of the responses of the dependent variable, there seems to be a class imbalance of about 2:1, with class 0 (Hesitant) being the majority class and class 1 (comfortable) being the minority class."
   ]
  },
  {
   "cell_type": "code",
   "execution_count": 44,
   "metadata": {},
   "outputs": [
    {
     "data": {
      "text/plain": [
       "Would you feel comfortable discussing a mental health issue with your direct supervisor(s)?\n",
       "0    786\n",
       "1    387\n",
       "Name: Would you feel comfortable discussing a mental health issue with your direct supervisor(s)?, dtype: int64"
      ]
     },
     "execution_count": 44,
     "metadata": {},
     "output_type": "execute_result"
    }
   ],
   "source": [
    "# Counting the response of the dependent variable\n",
    "dep_3b.groupby(dep_3b).count()"
   ]
  },
  {
   "cell_type": "markdown",
   "metadata": {},
   "source": [
    "As a result, accuracy score alone will no longer be an accurate metric to evaluate the model, since the accuracy score will fail to capture the potential inflated false negative rate due to the class imbalance favouring the negative class. F1 score will be introduced as a second evaluation metric, since the calculation of F1 score takes the false negatives into an account."
   ]
  },
  {
   "cell_type": "code",
   "execution_count": 45,
   "metadata": {},
   "outputs": [],
   "source": [
    "# Creating a model to get the feature importances\n",
    "# Using GridSearchCV to determine best model for the features\n",
    "\n",
    "# Filter any deprecationwarning associated with numpy\n",
    "warnings.filterwarnings(\"ignore\",category=DeprecationWarning)\n",
    "\n",
    "# creating and fitting the model\n",
    "ind_q1 = independent_q1.copy()\n",
    "ind_q1.columns = [np.arange(len(ind_q1.columns))]\n",
    "\n",
    "X_train, X_test, y_train, y_test = train_test_split(ind_q1,dep_3b.values.astype(int),test_size = 0.2)\n",
    "\n",
    "estimators = [(\"normalize\", preprocessing.StandardScaler()),\n",
    "             (\"model\",LogisticRegression())]\n",
    "\n",
    "pipe = pipeline.Pipeline(estimators)\n",
    "\n",
    "param_grid = [{\"model\":[XGBClassifier()], \n",
    "               \"normalize\": [preprocessing.StandardScaler(), preprocessing.MinMaxScaler(), None],\n",
    "               \"model__max_depth\":[1,2,3,4,5],\"model__n_estimators\":[50,100,150,200],\"model__n_jobs\":[6]},\n",
    "              {\"model\": [RandomForestClassifier()],\n",
    "               \"normalize\": [preprocessing.StandardScaler(), preprocessing.MinMaxScaler(), None],\n",
    "               \"model__n_estimators\":[100,150,200],\"model__class_weight\":[{0: 1, 1: 3}],\n",
    "               \"model__n_jobs\":[6]}]\n",
    "\n",
    "grid = GridSearchCV(pipe, param_grid, cv=5, n_jobs=6)\n",
    "fitted_grid_2 = grid.fit(X_train,y_train)"
   ]
  },
  {
   "cell_type": "code",
   "execution_count": 46,
   "metadata": {},
   "outputs": [
    {
     "name": "stdout",
     "output_type": "stream",
     "text": [
      "Validation score of the best model: 76.12 %\n"
     ]
    }
   ],
   "source": [
    "# Validation score of the best model\n",
    "print(\"Validation score of the best model:\",round(fitted_grid_2.best_score_*100,2),\"%\")"
   ]
  },
  {
   "cell_type": "code",
   "execution_count": 47,
   "metadata": {},
   "outputs": [
    {
     "name": "stdout",
     "output_type": "stream",
     "text": [
      "Test score of the best model: 74.47 %\n"
     ]
    }
   ],
   "source": [
    "# Test score of the best model\n",
    "print(\"Test score of the best model:\",round(fitted_grid_2.score(X_test,y_test)*100,2),\"%\")"
   ]
  },
  {
   "cell_type": "code",
   "execution_count": 48,
   "metadata": {},
   "outputs": [
    {
     "name": "stdout",
     "output_type": "stream",
     "text": [
      "F1 score of the best model: 56.52 %\n"
     ]
    }
   ],
   "source": [
    "# F1 score of the best model\n",
    "y_pred = fitted_grid_2.predict(X_test)\n",
    "\n",
    "print(\"F1 score of the best model:\",round(f1_score(y_test,y_pred)*100,2),\"%\")"
   ]
  },
  {
   "cell_type": "code",
   "execution_count": 49,
   "metadata": {
    "scrolled": true
   },
   "outputs": [
    {
     "data": {
      "text/html": [
       "<div>\n",
       "<style scoped>\n",
       "    .dataframe tbody tr th:only-of-type {\n",
       "        vertical-align: middle;\n",
       "    }\n",
       "\n",
       "    .dataframe tbody tr th {\n",
       "        vertical-align: top;\n",
       "    }\n",
       "\n",
       "    .dataframe thead th {\n",
       "        text-align: right;\n",
       "    }\n",
       "</style>\n",
       "<table border=\"1\" class=\"dataframe\">\n",
       "  <thead>\n",
       "    <tr style=\"text-align: right;\">\n",
       "      <th></th>\n",
       "      <th>Question</th>\n",
       "      <th>Coefficients</th>\n",
       "      <th>Percentage</th>\n",
       "    </tr>\n",
       "  </thead>\n",
       "  <tbody>\n",
       "    <tr>\n",
       "      <th>0</th>\n",
       "      <td>How willing would you be to share with friends...</td>\n",
       "      <td>1.238664</td>\n",
       "      <td>23.866429</td>\n",
       "    </tr>\n",
       "    <tr>\n",
       "      <th>1</th>\n",
       "      <td>Overall, how much importance does your employe...</td>\n",
       "      <td>1.838305</td>\n",
       "      <td>83.830544</td>\n",
       "    </tr>\n",
       "    <tr>\n",
       "      <th>2</th>\n",
       "      <td>If a mental health issue prompted you to reque...</td>\n",
       "      <td>1.378784</td>\n",
       "      <td>37.878405</td>\n",
       "    </tr>\n",
       "    <tr>\n",
       "      <th>3</th>\n",
       "      <td>Overall, how well do you think the tech indust...</td>\n",
       "      <td>1.499526</td>\n",
       "      <td>49.952554</td>\n",
       "    </tr>\n",
       "    <tr>\n",
       "      <th>4</th>\n",
       "      <td>Afrcian American</td>\n",
       "      <td>1.040610</td>\n",
       "      <td>4.060955</td>\n",
       "    </tr>\n",
       "    <tr>\n",
       "      <th>5</th>\n",
       "      <td>If a mental health issue prompted you to reque...</td>\n",
       "      <td>1.328327</td>\n",
       "      <td>32.832653</td>\n",
       "    </tr>\n",
       "    <tr>\n",
       "      <th>6</th>\n",
       "      <td>If a mental health issue prompted you to reque...</td>\n",
       "      <td>1.105447</td>\n",
       "      <td>10.544699</td>\n",
       "    </tr>\n",
       "    <tr>\n",
       "      <th>7</th>\n",
       "      <td>Have you ever sought treatment for a mental he...</td>\n",
       "      <td>0.820556</td>\n",
       "      <td>-17.944423</td>\n",
       "    </tr>\n",
       "    <tr>\n",
       "      <th>8</th>\n",
       "      <td>Post-Traumatic Stress Disorder</td>\n",
       "      <td>0.934392</td>\n",
       "      <td>-6.560797</td>\n",
       "    </tr>\n",
       "    <tr>\n",
       "      <th>9</th>\n",
       "      <td>Mood Disorder</td>\n",
       "      <td>1.019410</td>\n",
       "      <td>1.940984</td>\n",
       "    </tr>\n",
       "    <tr>\n",
       "      <th>10</th>\n",
       "      <td>Adjustment disorder</td>\n",
       "      <td>1.142051</td>\n",
       "      <td>14.205097</td>\n",
       "    </tr>\n",
       "  </tbody>\n",
       "</table>\n",
       "</div>"
      ],
      "text/plain": [
       "                                             Question  Coefficients  \\\n",
       "0   How willing would you be to share with friends...      1.238664   \n",
       "1   Overall, how much importance does your employe...      1.838305   \n",
       "2   If a mental health issue prompted you to reque...      1.378784   \n",
       "3   Overall, how well do you think the tech indust...      1.499526   \n",
       "4                                    Afrcian American      1.040610   \n",
       "5   If a mental health issue prompted you to reque...      1.328327   \n",
       "6   If a mental health issue prompted you to reque...      1.105447   \n",
       "7   Have you ever sought treatment for a mental he...      0.820556   \n",
       "8                      Post-Traumatic Stress Disorder      0.934392   \n",
       "9                                       Mood Disorder      1.019410   \n",
       "10                                Adjustment disorder      1.142051   \n",
       "\n",
       "    Percentage  \n",
       "0    23.866429  \n",
       "1    83.830544  \n",
       "2    37.878405  \n",
       "3    49.952554  \n",
       "4     4.060955  \n",
       "5    32.832653  \n",
       "6    10.544699  \n",
       "7   -17.944423  \n",
       "8    -6.560797  \n",
       "9     1.940984  \n",
       "10   14.205097  "
      ]
     },
     "execution_count": 49,
     "metadata": {},
     "output_type": "execute_result"
    }
   ],
   "source": [
    "# Ranking of factors that are important for predicting comfort level, from most to least important\n",
    "indices = np.flip(fitted_grid_2.best_estimator_.named_steps[\"model\"].feature_importances_.argsort())\n",
    "\n",
    "# creating a list of factors that are statistically significant\n",
    "sig_list = [3,4,5,9,15,19,20,21,22,23,35]\n",
    "\n",
    "numbers = []\n",
    "for position,idx in enumerate(indices):\n",
    "    for num in sig_list:\n",
    "        if idx == num:\n",
    "            numbers.append(idx)\n",
    "    \n",
    "list_of_q = independent_q1.columns[numbers].values\n",
    "odds_ratio = np.exp(fitted_model_demo.params)[numbers]\n",
    "percentage = (odds_ratio - 1) * 100\n",
    "\n",
    "q3b_result = pd.DataFrame({\"Question\": list_of_q,\"Coefficients\": odds_ratio, \"Percentage\": percentage})\n",
    "q3b_result"
   ]
  },
  {
   "cell_type": "markdown",
   "metadata": {},
   "source": [
    "The questions in the table are ranked by the feature importance of building the XGB Classifier model, and the coefficients are generated from the first Logistic Regression model.\n",
    "\n",
    "First, it is interesting to mention that a number of disorders impact comfort level discussing with direct supervisors. However, the impact is relatively small based on the magnitude of the percentage.\n",
    "\n",
    "In contrast to the comfort level with coworkers, overall perceived ratings of the industry and employers play a significant role in the comfort level with discussing MH issues with direct supervisors. Employees are more likely to feel comfortable with each unit increase of the overall ratings of the importance the employer put on MH (83%) and the overall ratings of the tech industry in dealing with MH (50%). One possible explanation is that the leadership style of supervisors may tie into one's perspective of the culture and environment of the workplace. The employee may be less inclined to open up to their supervisors if they feel uncomfortable with the company's attitude towards mental wellness.\n",
    "\n",
    "One important discovery is that employees who seek professional help for a MH disorder are 18% less likely to be comfortable with talking about MH. This is something important to keep in mind, since those who are going through treatments may be at a more emotionally and psychologically fragile state that warrants respect for their space and privacy.\n",
    "\n",
    "Moreover, both the willingness of sharing MH diagnoses with friends and family and the ease of requesting medical leave due to mental illness are significant factors of affecting one's comfort level in discussing MH topics with both co-workers and direct supervisors. Employees are more likely to be comfortable discussing MH issues with direct supervisors if they perceive the process to be very easy (38%), somewhat easy (33%), and neutral (11%). Making medical leave requests easier and more accessible to employees could be seen as a conscious effort of companies putting employee's mental health and wellness as one of their priorities, hence encouraging employees to be more comfortable with discussing those topics at work.\n",
    "\n",
    "### <u>Conclusion</u>\n",
    "\n",
    "**In conclusion, the analysis concludes the following to be the most impactful changes for improving one's comfort level in discussing mental health issues at workplace:**\n",
    "\n",
    "- <b>Improve accessibility to medical leave requests due to mental illness\n",
    "- Create a positive attitude and atomsphere in the way MH issues are discussed to encourage those who are more hesitant in opening up and share their thoughts and feelings</b>"
   ]
  },
  {
   "cell_type": "code",
   "execution_count": null,
   "metadata": {},
   "outputs": [],
   "source": []
  }
 ],
 "metadata": {
  "kernelspec": {
   "display_name": "Python 3",
   "language": "python",
   "name": "python3"
  },
  "language_info": {
   "codemirror_mode": {
    "name": "ipython",
    "version": 3
   },
   "file_extension": ".py",
   "mimetype": "text/x-python",
   "name": "python",
   "nbconvert_exporter": "python",
   "pygments_lexer": "ipython3",
   "version": "3.6.7"
  }
 },
 "nbformat": 4,
 "nbformat_minor": 2
}
